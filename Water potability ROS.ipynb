{
 "cells": [
  {
   "cell_type": "markdown",
   "id": "8b0fdd20",
   "metadata": {},
   "source": [
    "# Water Potability Prediction"
   ]
  },
  {
   "cell_type": "markdown",
   "id": "a86700ee",
   "metadata": {},
   "source": [
    "#pH – The measure of acidity or alkalinity of the water sample ;\n",
    "#Hardness- The concentration of calcium and magnesium ions in a water sample.\n",
    "#Solid- The total dissolved solids  in parts per million.\n",
    "#Chloramines – The concentration of chloramines in in part per million.\n",
    "#Sulfate - The concentration of sulfate ions in the water sample, measured in part per millions.\n",
    "#Conductivity – The electrical conductivity of the water sample, measured in microsiemens per centimeter .\n",
    "#Organic_carbon - The concentration of organic carbon in the water sample, measured in parts per million.\n",
    "#Trihalmethanes - The concentration of Trihalmethanes in the water sample, measured in part per million.\n",
    "#Turbidity- The clarity of water sample , measured in nephelometric turbidity units ( NTU)\n",
    "#Potability – The binary variable indicating whether the water sample is safe for human consumption (1) or not (0).\n"
   ]
  },
  {
   "cell_type": "code",
   "execution_count": 201,
   "id": "e18f95ab",
   "metadata": {},
   "outputs": [],
   "source": [
    "import numpy as np\n",
    "import pandas as pd\n",
    "from numpy import random\n",
    "import matplotlib.pyplot as plt\n",
    "import seaborn as sns\n",
    "import warnings\n",
    "warnings.filterwarnings('ignore')\n"
   ]
  },
  {
   "cell_type": "code",
   "execution_count": 2,
   "id": "ba58e808",
   "metadata": {},
   "outputs": [],
   "source": [
    "df=pd.read_csv(r\"C:\\Users\\priya\\OneDrive\\Desktop\\D Python\\water_potability.csv\")"
   ]
  },
  {
   "cell_type": "code",
   "execution_count": 3,
   "id": "601a6434",
   "metadata": {},
   "outputs": [
    {
     "data": {
      "text/plain": [
       "(3276, 10)"
      ]
     },
     "execution_count": 3,
     "metadata": {},
     "output_type": "execute_result"
    }
   ],
   "source": [
    "df.shape"
   ]
  },
  {
   "cell_type": "code",
   "execution_count": 4,
   "id": "dc168140",
   "metadata": {},
   "outputs": [
    {
     "data": {
      "text/html": [
       "<div>\n",
       "<style scoped>\n",
       "    .dataframe tbody tr th:only-of-type {\n",
       "        vertical-align: middle;\n",
       "    }\n",
       "\n",
       "    .dataframe tbody tr th {\n",
       "        vertical-align: top;\n",
       "    }\n",
       "\n",
       "    .dataframe thead th {\n",
       "        text-align: right;\n",
       "    }\n",
       "</style>\n",
       "<table border=\"1\" class=\"dataframe\">\n",
       "  <thead>\n",
       "    <tr style=\"text-align: right;\">\n",
       "      <th></th>\n",
       "      <th>ph</th>\n",
       "      <th>Hardness</th>\n",
       "      <th>Solids</th>\n",
       "      <th>Chloramines</th>\n",
       "      <th>Sulfate</th>\n",
       "      <th>Conductivity</th>\n",
       "      <th>Organic_carbon</th>\n",
       "      <th>Trihalomethanes</th>\n",
       "      <th>Turbidity</th>\n",
       "      <th>Potability</th>\n",
       "    </tr>\n",
       "  </thead>\n",
       "  <tbody>\n",
       "    <tr>\n",
       "      <th>0</th>\n",
       "      <td>NaN</td>\n",
       "      <td>204.890455</td>\n",
       "      <td>20791.318981</td>\n",
       "      <td>7.300212</td>\n",
       "      <td>368.516441</td>\n",
       "      <td>564.308654</td>\n",
       "      <td>10.379783</td>\n",
       "      <td>86.990970</td>\n",
       "      <td>2.963135</td>\n",
       "      <td>0</td>\n",
       "    </tr>\n",
       "    <tr>\n",
       "      <th>1</th>\n",
       "      <td>3.716080</td>\n",
       "      <td>129.422921</td>\n",
       "      <td>18630.057858</td>\n",
       "      <td>6.635246</td>\n",
       "      <td>NaN</td>\n",
       "      <td>592.885359</td>\n",
       "      <td>15.180013</td>\n",
       "      <td>56.329076</td>\n",
       "      <td>4.500656</td>\n",
       "      <td>0</td>\n",
       "    </tr>\n",
       "    <tr>\n",
       "      <th>2</th>\n",
       "      <td>8.099124</td>\n",
       "      <td>224.236259</td>\n",
       "      <td>19909.541732</td>\n",
       "      <td>9.275884</td>\n",
       "      <td>NaN</td>\n",
       "      <td>418.606213</td>\n",
       "      <td>16.868637</td>\n",
       "      <td>66.420093</td>\n",
       "      <td>3.055934</td>\n",
       "      <td>0</td>\n",
       "    </tr>\n",
       "    <tr>\n",
       "      <th>3</th>\n",
       "      <td>8.316766</td>\n",
       "      <td>214.373394</td>\n",
       "      <td>22018.417441</td>\n",
       "      <td>8.059332</td>\n",
       "      <td>356.886136</td>\n",
       "      <td>363.266516</td>\n",
       "      <td>18.436524</td>\n",
       "      <td>100.341674</td>\n",
       "      <td>4.628771</td>\n",
       "      <td>0</td>\n",
       "    </tr>\n",
       "    <tr>\n",
       "      <th>4</th>\n",
       "      <td>9.092223</td>\n",
       "      <td>181.101509</td>\n",
       "      <td>17978.986339</td>\n",
       "      <td>6.546600</td>\n",
       "      <td>310.135738</td>\n",
       "      <td>398.410813</td>\n",
       "      <td>11.558279</td>\n",
       "      <td>31.997993</td>\n",
       "      <td>4.075075</td>\n",
       "      <td>0</td>\n",
       "    </tr>\n",
       "  </tbody>\n",
       "</table>\n",
       "</div>"
      ],
      "text/plain": [
       "         ph    Hardness        Solids  Chloramines     Sulfate  Conductivity  \\\n",
       "0       NaN  204.890455  20791.318981     7.300212  368.516441    564.308654   \n",
       "1  3.716080  129.422921  18630.057858     6.635246         NaN    592.885359   \n",
       "2  8.099124  224.236259  19909.541732     9.275884         NaN    418.606213   \n",
       "3  8.316766  214.373394  22018.417441     8.059332  356.886136    363.266516   \n",
       "4  9.092223  181.101509  17978.986339     6.546600  310.135738    398.410813   \n",
       "\n",
       "   Organic_carbon  Trihalomethanes  Turbidity  Potability  \n",
       "0       10.379783        86.990970   2.963135           0  \n",
       "1       15.180013        56.329076   4.500656           0  \n",
       "2       16.868637        66.420093   3.055934           0  \n",
       "3       18.436524       100.341674   4.628771           0  \n",
       "4       11.558279        31.997993   4.075075           0  "
      ]
     },
     "execution_count": 4,
     "metadata": {},
     "output_type": "execute_result"
    }
   ],
   "source": [
    "df.head()"
   ]
  },
  {
   "cell_type": "code",
   "execution_count": 5,
   "id": "8f55a8e6",
   "metadata": {},
   "outputs": [],
   "source": [
    "#plt.figsize(10,42)\n",
    "#sns.catplot(data=df,x=\"Potability\",y=\"ph\",hue=\"Hardness\",kind=\"bar\")"
   ]
  },
  {
   "cell_type": "code",
   "execution_count": 6,
   "id": "a3f80480",
   "metadata": {},
   "outputs": [
    {
     "data": {
      "text/plain": [
       "ph                 491\n",
       "Hardness             0\n",
       "Solids               0\n",
       "Chloramines          0\n",
       "Sulfate            781\n",
       "Conductivity         0\n",
       "Organic_carbon       0\n",
       "Trihalomethanes    162\n",
       "Turbidity            0\n",
       "Potability           0\n",
       "dtype: int64"
      ]
     },
     "execution_count": 6,
     "metadata": {},
     "output_type": "execute_result"
    }
   ],
   "source": [
    "df.isnull().sum()"
   ]
  },
  {
   "cell_type": "code",
   "execution_count": 7,
   "id": "08e591b2",
   "metadata": {},
   "outputs": [
    {
     "data": {
      "text/plain": [
       "ph                 float64\n",
       "Hardness           float64\n",
       "Solids             float64\n",
       "Chloramines        float64\n",
       "Sulfate            float64\n",
       "Conductivity       float64\n",
       "Organic_carbon     float64\n",
       "Trihalomethanes    float64\n",
       "Turbidity          float64\n",
       "Potability           int64\n",
       "dtype: object"
      ]
     },
     "execution_count": 7,
     "metadata": {},
     "output_type": "execute_result"
    }
   ],
   "source": [
    "df.dtypes"
   ]
  },
  {
   "cell_type": "code",
   "execution_count": 8,
   "id": "754f87d2",
   "metadata": {},
   "outputs": [
    {
     "data": {
      "text/plain": [
       "0    1998\n",
       "1    1278\n",
       "Name: Potability, dtype: int64"
      ]
     },
     "execution_count": 8,
     "metadata": {},
     "output_type": "execute_result"
    }
   ],
   "source": [
    "df.Potability .value_counts()"
   ]
  },
  {
   "cell_type": "code",
   "execution_count": 9,
   "id": "021a4c1f",
   "metadata": {},
   "outputs": [
    {
     "data": {
      "text/html": [
       "<div>\n",
       "<style scoped>\n",
       "    .dataframe tbody tr th:only-of-type {\n",
       "        vertical-align: middle;\n",
       "    }\n",
       "\n",
       "    .dataframe tbody tr th {\n",
       "        vertical-align: top;\n",
       "    }\n",
       "\n",
       "    .dataframe thead th {\n",
       "        text-align: right;\n",
       "    }\n",
       "</style>\n",
       "<table border=\"1\" class=\"dataframe\">\n",
       "  <thead>\n",
       "    <tr style=\"text-align: right;\">\n",
       "      <th></th>\n",
       "      <th>ph</th>\n",
       "      <th>Hardness</th>\n",
       "      <th>Solids</th>\n",
       "      <th>Chloramines</th>\n",
       "      <th>Sulfate</th>\n",
       "      <th>Conductivity</th>\n",
       "      <th>Organic_carbon</th>\n",
       "      <th>Trihalomethanes</th>\n",
       "      <th>Turbidity</th>\n",
       "      <th>Potability</th>\n",
       "    </tr>\n",
       "  </thead>\n",
       "  <tbody>\n",
       "    <tr>\n",
       "      <th>count</th>\n",
       "      <td>2785.000000</td>\n",
       "      <td>3276.000000</td>\n",
       "      <td>3276.000000</td>\n",
       "      <td>3276.000000</td>\n",
       "      <td>2495.000000</td>\n",
       "      <td>3276.000000</td>\n",
       "      <td>3276.000000</td>\n",
       "      <td>3114.000000</td>\n",
       "      <td>3276.000000</td>\n",
       "      <td>3276.000000</td>\n",
       "    </tr>\n",
       "    <tr>\n",
       "      <th>mean</th>\n",
       "      <td>7.080795</td>\n",
       "      <td>196.369496</td>\n",
       "      <td>22014.092526</td>\n",
       "      <td>7.122277</td>\n",
       "      <td>333.775777</td>\n",
       "      <td>426.205111</td>\n",
       "      <td>14.284970</td>\n",
       "      <td>66.396293</td>\n",
       "      <td>3.966786</td>\n",
       "      <td>0.390110</td>\n",
       "    </tr>\n",
       "    <tr>\n",
       "      <th>std</th>\n",
       "      <td>1.594320</td>\n",
       "      <td>32.879761</td>\n",
       "      <td>8768.570828</td>\n",
       "      <td>1.583085</td>\n",
       "      <td>41.416840</td>\n",
       "      <td>80.824064</td>\n",
       "      <td>3.308162</td>\n",
       "      <td>16.175008</td>\n",
       "      <td>0.780382</td>\n",
       "      <td>0.487849</td>\n",
       "    </tr>\n",
       "    <tr>\n",
       "      <th>min</th>\n",
       "      <td>0.000000</td>\n",
       "      <td>47.432000</td>\n",
       "      <td>320.942611</td>\n",
       "      <td>0.352000</td>\n",
       "      <td>129.000000</td>\n",
       "      <td>181.483754</td>\n",
       "      <td>2.200000</td>\n",
       "      <td>0.738000</td>\n",
       "      <td>1.450000</td>\n",
       "      <td>0.000000</td>\n",
       "    </tr>\n",
       "    <tr>\n",
       "      <th>25%</th>\n",
       "      <td>6.093092</td>\n",
       "      <td>176.850538</td>\n",
       "      <td>15666.690297</td>\n",
       "      <td>6.127421</td>\n",
       "      <td>307.699498</td>\n",
       "      <td>365.734414</td>\n",
       "      <td>12.065801</td>\n",
       "      <td>55.844536</td>\n",
       "      <td>3.439711</td>\n",
       "      <td>0.000000</td>\n",
       "    </tr>\n",
       "    <tr>\n",
       "      <th>50%</th>\n",
       "      <td>7.036752</td>\n",
       "      <td>196.967627</td>\n",
       "      <td>20927.833607</td>\n",
       "      <td>7.130299</td>\n",
       "      <td>333.073546</td>\n",
       "      <td>421.884968</td>\n",
       "      <td>14.218338</td>\n",
       "      <td>66.622485</td>\n",
       "      <td>3.955028</td>\n",
       "      <td>0.000000</td>\n",
       "    </tr>\n",
       "    <tr>\n",
       "      <th>75%</th>\n",
       "      <td>8.062066</td>\n",
       "      <td>216.667456</td>\n",
       "      <td>27332.762127</td>\n",
       "      <td>8.114887</td>\n",
       "      <td>359.950170</td>\n",
       "      <td>481.792304</td>\n",
       "      <td>16.557652</td>\n",
       "      <td>77.337473</td>\n",
       "      <td>4.500320</td>\n",
       "      <td>1.000000</td>\n",
       "    </tr>\n",
       "    <tr>\n",
       "      <th>max</th>\n",
       "      <td>14.000000</td>\n",
       "      <td>323.124000</td>\n",
       "      <td>61227.196008</td>\n",
       "      <td>13.127000</td>\n",
       "      <td>481.030642</td>\n",
       "      <td>753.342620</td>\n",
       "      <td>28.300000</td>\n",
       "      <td>124.000000</td>\n",
       "      <td>6.739000</td>\n",
       "      <td>1.000000</td>\n",
       "    </tr>\n",
       "  </tbody>\n",
       "</table>\n",
       "</div>"
      ],
      "text/plain": [
       "                ph     Hardness        Solids  Chloramines      Sulfate  \\\n",
       "count  2785.000000  3276.000000   3276.000000  3276.000000  2495.000000   \n",
       "mean      7.080795   196.369496  22014.092526     7.122277   333.775777   \n",
       "std       1.594320    32.879761   8768.570828     1.583085    41.416840   \n",
       "min       0.000000    47.432000    320.942611     0.352000   129.000000   \n",
       "25%       6.093092   176.850538  15666.690297     6.127421   307.699498   \n",
       "50%       7.036752   196.967627  20927.833607     7.130299   333.073546   \n",
       "75%       8.062066   216.667456  27332.762127     8.114887   359.950170   \n",
       "max      14.000000   323.124000  61227.196008    13.127000   481.030642   \n",
       "\n",
       "       Conductivity  Organic_carbon  Trihalomethanes    Turbidity   Potability  \n",
       "count   3276.000000     3276.000000      3114.000000  3276.000000  3276.000000  \n",
       "mean     426.205111       14.284970        66.396293     3.966786     0.390110  \n",
       "std       80.824064        3.308162        16.175008     0.780382     0.487849  \n",
       "min      181.483754        2.200000         0.738000     1.450000     0.000000  \n",
       "25%      365.734414       12.065801        55.844536     3.439711     0.000000  \n",
       "50%      421.884968       14.218338        66.622485     3.955028     0.000000  \n",
       "75%      481.792304       16.557652        77.337473     4.500320     1.000000  \n",
       "max      753.342620       28.300000       124.000000     6.739000     1.000000  "
      ]
     },
     "execution_count": 9,
     "metadata": {},
     "output_type": "execute_result"
    }
   ],
   "source": [
    "df.describe()"
   ]
  },
  {
   "cell_type": "code",
   "execution_count": 10,
   "id": "99974446",
   "metadata": {},
   "outputs": [
    {
     "data": {
      "text/plain": [
       "ph                 491\n",
       "Hardness             0\n",
       "Solids               0\n",
       "Chloramines          0\n",
       "Sulfate            781\n",
       "Conductivity         0\n",
       "Organic_carbon       0\n",
       "Trihalomethanes    162\n",
       "Turbidity            0\n",
       "Potability           0\n",
       "dtype: int64"
      ]
     },
     "execution_count": 10,
     "metadata": {},
     "output_type": "execute_result"
    }
   ],
   "source": [
    "df.isnull().sum()"
   ]
  },
  {
   "cell_type": "markdown",
   "id": "c4ae0ac3",
   "metadata": {},
   "source": [
    "# missing value treatment"
   ]
  },
  {
   "cell_type": "code",
   "execution_count": 11,
   "id": "abb2ad9a",
   "metadata": {},
   "outputs": [
    {
     "data": {
      "text/plain": [
       "3.716080    1\n",
       "6.704432    1\n",
       "5.915807    1\n",
       "8.136498    1\n",
       "6.493764    1\n",
       "           ..\n",
       "7.808012    1\n",
       "5.895949    1\n",
       "7.269652    1\n",
       "9.489601    1\n",
       "7.874671    1\n",
       "Name: ph, Length: 2785, dtype: int64"
      ]
     },
     "execution_count": 11,
     "metadata": {},
     "output_type": "execute_result"
    }
   ],
   "source": [
    "df.ph.value_counts()"
   ]
  },
  {
   "cell_type": "code",
   "execution_count": 12,
   "id": "500996a1",
   "metadata": {},
   "outputs": [],
   "source": [
    "df.ph=df.ph.fillna(df.ph.mean())"
   ]
  },
  {
   "cell_type": "code",
   "execution_count": 13,
   "id": "60beed43",
   "metadata": {},
   "outputs": [],
   "source": [
    "df.fillna(df.mean(),inplace=True)"
   ]
  },
  {
   "cell_type": "code",
   "execution_count": 14,
   "id": "eb5e9d4c",
   "metadata": {},
   "outputs": [
    {
     "data": {
      "text/plain": [
       "ph                 0\n",
       "Hardness           0\n",
       "Solids             0\n",
       "Chloramines        0\n",
       "Sulfate            0\n",
       "Conductivity       0\n",
       "Organic_carbon     0\n",
       "Trihalomethanes    0\n",
       "Turbidity          0\n",
       "Potability         0\n",
       "dtype: int64"
      ]
     },
     "execution_count": 14,
     "metadata": {},
     "output_type": "execute_result"
    }
   ],
   "source": [
    "df.isnull().sum()"
   ]
  },
  {
   "cell_type": "markdown",
   "id": "893c25f5",
   "metadata": {},
   "source": [
    "# separation of data into dependent & independent columns"
   ]
  },
  {
   "cell_type": "code",
   "execution_count": 15,
   "id": "b8fb3bce",
   "metadata": {},
   "outputs": [],
   "source": [
    "x=df.iloc[:,0:9]\n",
    "y=df.iloc[:,-1]"
   ]
  },
  {
   "cell_type": "code",
   "execution_count": 16,
   "id": "170ae052",
   "metadata": {},
   "outputs": [
    {
     "data": {
      "text/html": [
       "<div>\n",
       "<style scoped>\n",
       "    .dataframe tbody tr th:only-of-type {\n",
       "        vertical-align: middle;\n",
       "    }\n",
       "\n",
       "    .dataframe tbody tr th {\n",
       "        vertical-align: top;\n",
       "    }\n",
       "\n",
       "    .dataframe thead th {\n",
       "        text-align: right;\n",
       "    }\n",
       "</style>\n",
       "<table border=\"1\" class=\"dataframe\">\n",
       "  <thead>\n",
       "    <tr style=\"text-align: right;\">\n",
       "      <th></th>\n",
       "      <th>ph</th>\n",
       "      <th>Hardness</th>\n",
       "      <th>Solids</th>\n",
       "      <th>Chloramines</th>\n",
       "      <th>Sulfate</th>\n",
       "      <th>Conductivity</th>\n",
       "      <th>Organic_carbon</th>\n",
       "      <th>Trihalomethanes</th>\n",
       "      <th>Turbidity</th>\n",
       "    </tr>\n",
       "  </thead>\n",
       "  <tbody>\n",
       "    <tr>\n",
       "      <th>0</th>\n",
       "      <td>7.080795</td>\n",
       "      <td>204.890455</td>\n",
       "      <td>20791.318981</td>\n",
       "      <td>7.300212</td>\n",
       "      <td>368.516441</td>\n",
       "      <td>564.308654</td>\n",
       "      <td>10.379783</td>\n",
       "      <td>86.990970</td>\n",
       "      <td>2.963135</td>\n",
       "    </tr>\n",
       "    <tr>\n",
       "      <th>1</th>\n",
       "      <td>3.716080</td>\n",
       "      <td>129.422921</td>\n",
       "      <td>18630.057858</td>\n",
       "      <td>6.635246</td>\n",
       "      <td>333.775777</td>\n",
       "      <td>592.885359</td>\n",
       "      <td>15.180013</td>\n",
       "      <td>56.329076</td>\n",
       "      <td>4.500656</td>\n",
       "    </tr>\n",
       "    <tr>\n",
       "      <th>2</th>\n",
       "      <td>8.099124</td>\n",
       "      <td>224.236259</td>\n",
       "      <td>19909.541732</td>\n",
       "      <td>9.275884</td>\n",
       "      <td>333.775777</td>\n",
       "      <td>418.606213</td>\n",
       "      <td>16.868637</td>\n",
       "      <td>66.420093</td>\n",
       "      <td>3.055934</td>\n",
       "    </tr>\n",
       "    <tr>\n",
       "      <th>3</th>\n",
       "      <td>8.316766</td>\n",
       "      <td>214.373394</td>\n",
       "      <td>22018.417441</td>\n",
       "      <td>8.059332</td>\n",
       "      <td>356.886136</td>\n",
       "      <td>363.266516</td>\n",
       "      <td>18.436524</td>\n",
       "      <td>100.341674</td>\n",
       "      <td>4.628771</td>\n",
       "    </tr>\n",
       "    <tr>\n",
       "      <th>4</th>\n",
       "      <td>9.092223</td>\n",
       "      <td>181.101509</td>\n",
       "      <td>17978.986339</td>\n",
       "      <td>6.546600</td>\n",
       "      <td>310.135738</td>\n",
       "      <td>398.410813</td>\n",
       "      <td>11.558279</td>\n",
       "      <td>31.997993</td>\n",
       "      <td>4.075075</td>\n",
       "    </tr>\n",
       "  </tbody>\n",
       "</table>\n",
       "</div>"
      ],
      "text/plain": [
       "         ph    Hardness        Solids  Chloramines     Sulfate  Conductivity  \\\n",
       "0  7.080795  204.890455  20791.318981     7.300212  368.516441    564.308654   \n",
       "1  3.716080  129.422921  18630.057858     6.635246  333.775777    592.885359   \n",
       "2  8.099124  224.236259  19909.541732     9.275884  333.775777    418.606213   \n",
       "3  8.316766  214.373394  22018.417441     8.059332  356.886136    363.266516   \n",
       "4  9.092223  181.101509  17978.986339     6.546600  310.135738    398.410813   \n",
       "\n",
       "   Organic_carbon  Trihalomethanes  Turbidity  \n",
       "0       10.379783        86.990970   2.963135  \n",
       "1       15.180013        56.329076   4.500656  \n",
       "2       16.868637        66.420093   3.055934  \n",
       "3       18.436524       100.341674   4.628771  \n",
       "4       11.558279        31.997993   4.075075  "
      ]
     },
     "execution_count": 16,
     "metadata": {},
     "output_type": "execute_result"
    }
   ],
   "source": [
    "x.head()"
   ]
  },
  {
   "cell_type": "code",
   "execution_count": 17,
   "id": "5d794e60",
   "metadata": {},
   "outputs": [
    {
     "data": {
      "text/plain": [
       "0    0\n",
       "1    0\n",
       "2    0\n",
       "3    0\n",
       "4    0\n",
       "Name: Potability, dtype: int64"
      ]
     },
     "execution_count": 17,
     "metadata": {},
     "output_type": "execute_result"
    }
   ],
   "source": [
    "y.head()"
   ]
  },
  {
   "cell_type": "markdown",
   "id": "7b460376",
   "metadata": {},
   "source": [
    "# Preparing the Data for the Model"
   ]
  },
  {
   "cell_type": "code",
   "execution_count": 18,
   "id": "5548ccf5",
   "metadata": {},
   "outputs": [],
   "source": [
    "from sklearn.model_selection import train_test_split"
   ]
  },
  {
   "cell_type": "code",
   "execution_count": 19,
   "id": "76182795",
   "metadata": {},
   "outputs": [],
   "source": [
    "x_train,x_test,y_train,y_test=train_test_split(x,y,test_size=0.2,random_state=100)"
   ]
  },
  {
   "cell_type": "code",
   "execution_count": 20,
   "id": "bf7804ab",
   "metadata": {},
   "outputs": [
    {
     "data": {
      "text/plain": [
       "((2620, 9), (656, 9), (2620,), (656,))"
      ]
     },
     "execution_count": 20,
     "metadata": {},
     "output_type": "execute_result"
    }
   ],
   "source": [
    "x_train.shape,x_test.shape,y_train.shape,y_test.shape"
   ]
  },
  {
   "cell_type": "markdown",
   "id": "24df4a2f",
   "metadata": {},
   "source": [
    "# LogisticRegression"
   ]
  },
  {
   "cell_type": "code",
   "execution_count": 21,
   "id": "96490cb2",
   "metadata": {},
   "outputs": [],
   "source": [
    "from sklearn.linear_model import LogisticRegression\n",
    "lg=LogisticRegression()"
   ]
  },
  {
   "cell_type": "code",
   "execution_count": 22,
   "id": "41c5a88e",
   "metadata": {},
   "outputs": [
    {
     "data": {
      "text/plain": [
       "LogisticRegression()"
      ]
     },
     "execution_count": 22,
     "metadata": {},
     "output_type": "execute_result"
    }
   ],
   "source": [
    "lg.fit(x_train,y_train)"
   ]
  },
  {
   "cell_type": "code",
   "execution_count": 23,
   "id": "1c72cb58",
   "metadata": {},
   "outputs": [],
   "source": [
    "lg_p=lg.predict(x_test)"
   ]
  },
  {
   "cell_type": "code",
   "execution_count": 24,
   "id": "d62f10da",
   "metadata": {},
   "outputs": [],
   "source": [
    "from sklearn.metrics import confusion_matrix"
   ]
  },
  {
   "cell_type": "code",
   "execution_count": 25,
   "id": "c4d9ba3f",
   "metadata": {},
   "outputs": [
    {
     "data": {
      "text/plain": [
       "array([[400, 256],\n",
       "       [  0,   0]], dtype=int64)"
      ]
     },
     "execution_count": 25,
     "metadata": {},
     "output_type": "execute_result"
    }
   ],
   "source": [
    "lg_m=confusion_matrix(lg_p,y_test)\n",
    "lg_m"
   ]
  },
  {
   "cell_type": "code",
   "execution_count": 26,
   "id": "c6f2d8c9",
   "metadata": {},
   "outputs": [
    {
     "data": {
      "text/plain": [
       "60.97560975609756"
      ]
     },
     "execution_count": 26,
     "metadata": {},
     "output_type": "execute_result"
    }
   ],
   "source": [
    "lg_acc=lg_m.diagonal().sum()/lg_m.sum()*100\n",
    "lg_acc"
   ]
  },
  {
   "cell_type": "code",
   "execution_count": 27,
   "id": "4d66ff28",
   "metadata": {},
   "outputs": [],
   "source": [
    "from sklearn.metrics import classification_report"
   ]
  },
  {
   "cell_type": "code",
   "execution_count": 28,
   "id": "981a7c59",
   "metadata": {},
   "outputs": [
    {
     "name": "stdout",
     "output_type": "stream",
     "text": [
      "              precision    recall  f1-score   support\n",
      "\n",
      "           0       1.00      0.61      0.76       656\n",
      "           1       0.00      0.00      0.00         0\n",
      "\n",
      "    accuracy                           0.61       656\n",
      "   macro avg       0.50      0.30      0.38       656\n",
      "weighted avg       1.00      0.61      0.76       656\n",
      "\n"
     ]
    }
   ],
   "source": [
    "print(classification_report(lg_p,y_test))"
   ]
  },
  {
   "cell_type": "code",
   "execution_count": 29,
   "id": "d4639619",
   "metadata": {},
   "outputs": [],
   "source": [
    "from sklearn.metrics import precision_score,recall_score,f1_score"
   ]
  },
  {
   "cell_type": "code",
   "execution_count": 30,
   "id": "60d0d07c",
   "metadata": {},
   "outputs": [
    {
     "data": {
      "text/plain": [
       "0.0"
      ]
     },
     "execution_count": 30,
     "metadata": {},
     "output_type": "execute_result"
    }
   ],
   "source": [
    "lg_pr=0.0\n",
    "lg_pr"
   ]
  },
  {
   "cell_type": "code",
   "execution_count": 31,
   "id": "dedb587e",
   "metadata": {},
   "outputs": [],
   "source": [
    "lg_re=0.00"
   ]
  },
  {
   "cell_type": "code",
   "execution_count": 32,
   "id": "2d872a75",
   "metadata": {},
   "outputs": [],
   "source": [
    "lg_f1=0.00"
   ]
  },
  {
   "cell_type": "markdown",
   "id": "43da6d66",
   "metadata": {},
   "source": [
    "# Decision Tree"
   ]
  },
  {
   "cell_type": "code",
   "execution_count": 33,
   "id": "d7c7aefc",
   "metadata": {},
   "outputs": [],
   "source": [
    "from sklearn.tree import DecisionTreeClassifier\n",
    "dt=DecisionTreeClassifier()"
   ]
  },
  {
   "cell_type": "code",
   "execution_count": 34,
   "id": "33bb4be1",
   "metadata": {},
   "outputs": [
    {
     "data": {
      "text/plain": [
       "DecisionTreeClassifier()"
      ]
     },
     "execution_count": 34,
     "metadata": {},
     "output_type": "execute_result"
    }
   ],
   "source": [
    "dt.fit(x_train,y_train)"
   ]
  },
  {
   "cell_type": "code",
   "execution_count": 35,
   "id": "4533bfd7",
   "metadata": {},
   "outputs": [],
   "source": [
    "dt_p=dt.predict(x_test)"
   ]
  },
  {
   "cell_type": "code",
   "execution_count": 36,
   "id": "e524251e",
   "metadata": {},
   "outputs": [
    {
     "data": {
      "text/plain": [
       "array([[269, 137],\n",
       "       [131, 119]], dtype=int64)"
      ]
     },
     "execution_count": 36,
     "metadata": {},
     "output_type": "execute_result"
    }
   ],
   "source": [
    "dt_m=confusion_matrix(dt_p,y_test)\n",
    "dt_m"
   ]
  },
  {
   "cell_type": "code",
   "execution_count": 37,
   "id": "6ec9ce2a",
   "metadata": {},
   "outputs": [
    {
     "data": {
      "text/plain": [
       "59.14634146341463"
      ]
     },
     "execution_count": 37,
     "metadata": {},
     "output_type": "execute_result"
    }
   ],
   "source": [
    "dt_acc=dt_m.diagonal().sum()/dt_m.sum()*100\n",
    "dt_acc"
   ]
  },
  {
   "cell_type": "code",
   "execution_count": 38,
   "id": "8d432ada",
   "metadata": {},
   "outputs": [
    {
     "name": "stdout",
     "output_type": "stream",
     "text": [
      "              precision    recall  f1-score   support\n",
      "\n",
      "           0       0.67      0.66      0.67       406\n",
      "           1       0.46      0.48      0.47       250\n",
      "\n",
      "    accuracy                           0.59       656\n",
      "   macro avg       0.57      0.57      0.57       656\n",
      "weighted avg       0.59      0.59      0.59       656\n",
      "\n"
     ]
    }
   ],
   "source": [
    "print(classification_report(dt_p,y_test))"
   ]
  },
  {
   "cell_type": "code",
   "execution_count": 39,
   "id": "d8ca7725",
   "metadata": {},
   "outputs": [
    {
     "data": {
      "text/plain": [
       "0.46484375"
      ]
     },
     "execution_count": 39,
     "metadata": {},
     "output_type": "execute_result"
    }
   ],
   "source": [
    "dt_pr=precision_score(dt_p,y_test)\n",
    "dt_pr"
   ]
  },
  {
   "cell_type": "code",
   "execution_count": 40,
   "id": "39184e35",
   "metadata": {},
   "outputs": [
    {
     "data": {
      "text/plain": [
       "0.476"
      ]
     },
     "execution_count": 40,
     "metadata": {},
     "output_type": "execute_result"
    }
   ],
   "source": [
    "dt_re=recall_score(dt_p,y_test)\n",
    "dt_re"
   ]
  },
  {
   "cell_type": "code",
   "execution_count": 41,
   "id": "120f7734",
   "metadata": {},
   "outputs": [
    {
     "data": {
      "text/plain": [
       "0.47035573122529645"
      ]
     },
     "execution_count": 41,
     "metadata": {},
     "output_type": "execute_result"
    }
   ],
   "source": [
    "dt_f1=f1_score(dt_p,y_test)\n",
    "dt_f1"
   ]
  },
  {
   "cell_type": "code",
   "execution_count": null,
   "id": "6dc27feb",
   "metadata": {},
   "outputs": [],
   "source": []
  },
  {
   "cell_type": "markdown",
   "id": "ba80da1b",
   "metadata": {},
   "source": [
    "# KNN"
   ]
  },
  {
   "cell_type": "code",
   "execution_count": 42,
   "id": "3828b906",
   "metadata": {},
   "outputs": [],
   "source": [
    "from sklearn.neighbors import KNeighborsClassifier\n",
    "knn= KNeighborsClassifier(n_neighbors=7)"
   ]
  },
  {
   "cell_type": "code",
   "execution_count": 43,
   "id": "2128bf15",
   "metadata": {},
   "outputs": [
    {
     "data": {
      "text/plain": [
       "KNeighborsClassifier(n_neighbors=7)"
      ]
     },
     "execution_count": 43,
     "metadata": {},
     "output_type": "execute_result"
    }
   ],
   "source": [
    "knn.fit(x_train,y_train)"
   ]
  },
  {
   "cell_type": "code",
   "execution_count": 44,
   "id": "d1385a35",
   "metadata": {},
   "outputs": [],
   "source": [
    "k_p=knn.predict(x_test)"
   ]
  },
  {
   "cell_type": "code",
   "execution_count": 45,
   "id": "f430b616",
   "metadata": {},
   "outputs": [
    {
     "data": {
      "text/plain": [
       "array([[304, 189],\n",
       "       [ 96,  67]], dtype=int64)"
      ]
     },
     "execution_count": 45,
     "metadata": {},
     "output_type": "execute_result"
    }
   ],
   "source": [
    "k_m=confusion_matrix(k_p,y_test)\n",
    "k_m"
   ]
  },
  {
   "cell_type": "code",
   "execution_count": 46,
   "id": "05e36e12",
   "metadata": {},
   "outputs": [
    {
     "data": {
      "text/plain": [
       "56.55487804878049"
      ]
     },
     "execution_count": 46,
     "metadata": {},
     "output_type": "execute_result"
    }
   ],
   "source": [
    "k_acc=k_m.diagonal().sum()/k_m.sum()*100\n",
    "k_acc"
   ]
  },
  {
   "cell_type": "code",
   "execution_count": 47,
   "id": "cbc61c08",
   "metadata": {},
   "outputs": [
    {
     "name": "stdout",
     "output_type": "stream",
     "text": [
      "              precision    recall  f1-score   support\n",
      "\n",
      "           0       0.76      0.62      0.68       493\n",
      "           1       0.26      0.41      0.32       163\n",
      "\n",
      "    accuracy                           0.57       656\n",
      "   macro avg       0.51      0.51      0.50       656\n",
      "weighted avg       0.64      0.57      0.59       656\n",
      "\n"
     ]
    }
   ],
   "source": [
    "print(classification_report(k_p,y_test))"
   ]
  },
  {
   "cell_type": "code",
   "execution_count": 48,
   "id": "ce289081",
   "metadata": {},
   "outputs": [],
   "source": [
    "lst=list()"
   ]
  },
  {
   "cell_type": "code",
   "execution_count": 49,
   "id": "e6c599fd",
   "metadata": {},
   "outputs": [],
   "source": [
    "for i in range (1,10):\n",
    "    knn=KNeighborsClassifier(n_neighbors=i)\n",
    "    knn.fit(x_train,y_train)\n",
    "    k_pred=knn.predict(x_test)\n",
    "    k_m=confusion_matrix(k_pred,y_test)\n",
    "    k_acc=k_m.diagonal().sum()/k_m.sum()*100\n",
    "    lst.append(k_acc)"
   ]
  },
  {
   "cell_type": "code",
   "execution_count": 50,
   "id": "999a573e",
   "metadata": {},
   "outputs": [
    {
     "data": {
      "image/png": "[encoded data removed]",
      "text/plain": [
       "<Figure size 640x480 with 1 Axes>"
      ]
     },
     "metadata": {},
     "output_type": "display_data"
    }
   ],
   "source": [
    "import matplotlib.pyplot as plt\n",
    "p=plt.plot(lst)"
   ]
  },
  {
   "cell_type": "code",
   "execution_count": 51,
   "id": "cb1aab83",
   "metadata": {},
   "outputs": [
    {
     "data": {
      "text/plain": [
       "0.26171875"
      ]
     },
     "execution_count": 51,
     "metadata": {},
     "output_type": "execute_result"
    }
   ],
   "source": [
    "k_pr=precision_score(k_p,y_test)\n",
    "k_pr"
   ]
  },
  {
   "cell_type": "code",
   "execution_count": 52,
   "id": "b7b35117",
   "metadata": {},
   "outputs": [
    {
     "data": {
      "text/plain": [
       "0.4110429447852761"
      ]
     },
     "execution_count": 52,
     "metadata": {},
     "output_type": "execute_result"
    }
   ],
   "source": [
    "k_re=recall_score(k_p,y_test)\n",
    "k_re"
   ]
  },
  {
   "cell_type": "code",
   "execution_count": 53,
   "id": "18e3ddcb",
   "metadata": {},
   "outputs": [
    {
     "data": {
      "text/plain": [
       "0.3198090692124105"
      ]
     },
     "execution_count": 53,
     "metadata": {},
     "output_type": "execute_result"
    }
   ],
   "source": [
    "k_f1=f1_score(k_p,y_test)\n",
    "k_f1"
   ]
  },
  {
   "cell_type": "markdown",
   "id": "3b93d0cc",
   "metadata": {},
   "source": [
    "# Random Forest"
   ]
  },
  {
   "cell_type": "code",
   "execution_count": 54,
   "id": "6ad425fc",
   "metadata": {},
   "outputs": [],
   "source": [
    "from sklearn.ensemble import RandomForestClassifier\n",
    "rf=RandomForestClassifier()"
   ]
  },
  {
   "cell_type": "code",
   "execution_count": 55,
   "id": "e1454e59",
   "metadata": {},
   "outputs": [
    {
     "data": {
      "text/plain": [
       "RandomForestClassifier()"
      ]
     },
     "execution_count": 55,
     "metadata": {},
     "output_type": "execute_result"
    }
   ],
   "source": [
    "rf.fit(x_train,y_train)"
   ]
  },
  {
   "cell_type": "code",
   "execution_count": 56,
   "id": "dbe09516",
   "metadata": {},
   "outputs": [
    {
     "data": {
      "text/plain": [
       "array([0, 0, 0, 0, 0, 0, 0, 0, 0, 0, 0, 0, 0, 0, 1, 1, 0, 0, 0, 1, 1, 1,\n",
       "       1, 0, 0, 1, 0, 0, 0, 0, 1, 0, 1, 0, 0, 0, 0, 0, 0, 0, 0, 1, 1, 0,\n",
       "       0, 0, 0, 1, 0, 0, 0, 1, 0, 0, 0, 1, 0, 0, 0, 1, 0, 0, 0, 1, 0, 0,\n",
       "       0, 1, 0, 0, 0, 1, 1, 0, 0, 0, 0, 1, 1, 0, 0, 0, 1, 0, 0, 0, 0, 0,\n",
       "       0, 0, 1, 0, 0, 0, 0, 0, 0, 0, 0, 0, 0, 0, 0, 0, 0, 0, 0, 1, 1, 0,\n",
       "       0, 0, 0, 0, 0, 0, 1, 1, 1, 1, 0, 0, 0, 0, 0, 0, 0, 0, 0, 0, 0, 0,\n",
       "       0, 0, 0, 0, 0, 0, 0, 0, 0, 0, 0, 0, 0, 0, 0, 0, 0, 0, 0, 0, 1, 0,\n",
       "       0, 1, 0, 0, 0, 0, 1, 0, 0, 0, 0, 0, 0, 0, 0, 0, 1, 0, 0, 0, 1, 0,\n",
       "       0, 0, 1, 1, 0, 0, 0, 0, 1, 0, 0, 0, 1, 1, 0, 1, 1, 0, 0, 1, 0, 0,\n",
       "       0, 0, 0, 1, 0, 0, 0, 0, 0, 0, 0, 0, 0, 1, 0, 0, 0, 0, 0, 0, 0, 0,\n",
       "       1, 0, 0, 0, 0, 0, 0, 1, 0, 0, 0, 0, 0, 0, 1, 0, 0, 0, 0, 0, 1, 0,\n",
       "       0, 1, 0, 0, 0, 0, 0, 0, 0, 1, 1, 0, 0, 1, 1, 0, 0, 1, 1, 0, 1, 0,\n",
       "       0, 0, 0, 0, 0, 0, 0, 0, 0, 1, 0, 0, 0, 0, 0, 0, 0, 0, 1, 0, 1, 0,\n",
       "       0, 0, 0, 1, 0, 0, 0, 0, 0, 0, 0, 0, 0, 0, 0, 0, 0, 1, 0, 0, 0, 0,\n",
       "       1, 1, 0, 0, 0, 0, 0, 0, 0, 0, 0, 0, 0, 1, 0, 0, 0, 1, 0, 0, 0, 0,\n",
       "       1, 0, 0, 0, 0, 1, 0, 0, 0, 0, 0, 0, 0, 0, 0, 0, 0, 0, 0, 0, 0, 0,\n",
       "       0, 0, 0, 0, 0, 0, 0, 0, 1, 0, 0, 0, 0, 0, 0, 0, 0, 0, 0, 0, 0, 0,\n",
       "       0, 0, 0, 0, 1, 0, 1, 0, 0, 0, 0, 0, 0, 0, 0, 0, 0, 1, 0, 0, 0, 0,\n",
       "       0, 0, 0, 0, 0, 0, 0, 1, 1, 0, 1, 0, 1, 0, 0, 0, 0, 0, 1, 0, 0, 0,\n",
       "       0, 0, 0, 0, 0, 0, 0, 0, 0, 0, 0, 0, 0, 1, 0, 0, 0, 0, 0, 0, 0, 1,\n",
       "       0, 0, 0, 0, 0, 0, 1, 0, 0, 0, 0, 0, 0, 0, 0, 1, 0, 0, 0, 1, 0, 1,\n",
       "       1, 0, 0, 0, 0, 0, 0, 1, 0, 0, 0, 1, 0, 0, 1, 0, 0, 1, 0, 0, 0, 0,\n",
       "       1, 0, 0, 0, 0, 0, 0, 0, 0, 0, 0, 0, 0, 0, 0, 0, 0, 0, 1, 1, 0, 0,\n",
       "       0, 0, 0, 0, 0, 0, 1, 0, 1, 0, 0, 0, 1, 0, 0, 0, 0, 0, 0, 0, 0, 0,\n",
       "       1, 1, 0, 1, 1, 0, 0, 0, 0, 0, 0, 0, 0, 0, 1, 0, 0, 1, 0, 0, 0, 0,\n",
       "       1, 1, 0, 0, 0, 0, 0, 0, 0, 0, 0, 0, 0, 1, 0, 0, 0, 0, 0, 1, 0, 0,\n",
       "       0, 0, 0, 0, 0, 0, 1, 0, 0, 0, 0, 0, 0, 0, 0, 0, 0, 0, 0, 0, 0, 0,\n",
       "       0, 0, 1, 0, 1, 0, 0, 1, 0, 0, 0, 0, 1, 0, 1, 0, 0, 0, 0, 1, 0, 1,\n",
       "       0, 0, 0, 0, 1, 0, 0, 0, 0, 0, 0, 1, 0, 0, 1, 0, 0, 0, 0, 0, 1, 0,\n",
       "       1, 0, 0, 0, 1, 0, 0, 0, 0, 0, 0, 0, 1, 0, 0, 0, 0, 0], dtype=int64)"
      ]
     },
     "execution_count": 56,
     "metadata": {},
     "output_type": "execute_result"
    }
   ],
   "source": [
    "rf_p=rf.predict(x_test)\n",
    "rf_p"
   ]
  },
  {
   "cell_type": "code",
   "execution_count": 57,
   "id": "a5622fbe",
   "metadata": {},
   "outputs": [
    {
     "data": {
      "text/plain": [
       "array([[356, 182],\n",
       "       [ 44,  74]], dtype=int64)"
      ]
     },
     "execution_count": 57,
     "metadata": {},
     "output_type": "execute_result"
    }
   ],
   "source": [
    "rf_cf=confusion_matrix(rf_p,y_test)\n",
    "rf_cf"
   ]
  },
  {
   "cell_type": "code",
   "execution_count": 58,
   "id": "10a46a06",
   "metadata": {},
   "outputs": [
    {
     "data": {
      "text/plain": [
       "65.54878048780488"
      ]
     },
     "execution_count": 58,
     "metadata": {},
     "output_type": "execute_result"
    }
   ],
   "source": [
    "rf_acc=rf_cf.diagonal().sum()/rf_cf.sum()*100\n",
    "rf_acc"
   ]
  },
  {
   "cell_type": "code",
   "execution_count": 59,
   "id": "48a56eef",
   "metadata": {},
   "outputs": [
    {
     "name": "stdout",
     "output_type": "stream",
     "text": [
      "              precision    recall  f1-score   support\n",
      "\n",
      "           0       0.89      0.66      0.76       538\n",
      "           1       0.29      0.63      0.40       118\n",
      "\n",
      "    accuracy                           0.66       656\n",
      "   macro avg       0.59      0.64      0.58       656\n",
      "weighted avg       0.78      0.66      0.69       656\n",
      "\n"
     ]
    }
   ],
   "source": [
    "print(classification_report(rf_p,y_test))"
   ]
  },
  {
   "cell_type": "code",
   "execution_count": 60,
   "id": "f5c556e5",
   "metadata": {},
   "outputs": [
    {
     "data": {
      "text/plain": [
       "0.2890625"
      ]
     },
     "execution_count": 60,
     "metadata": {},
     "output_type": "execute_result"
    }
   ],
   "source": [
    "rf_pr=precision_score(rf_p,y_test)\n",
    "rf_pr"
   ]
  },
  {
   "cell_type": "code",
   "execution_count": 61,
   "id": "df99c3f4",
   "metadata": {},
   "outputs": [
    {
     "data": {
      "text/plain": [
       "0.6271186440677966"
      ]
     },
     "execution_count": 61,
     "metadata": {},
     "output_type": "execute_result"
    }
   ],
   "source": [
    "rf_re=recall_score(rf_p,y_test)\n",
    "rf_re\n"
   ]
  },
  {
   "cell_type": "code",
   "execution_count": 62,
   "id": "75dee615",
   "metadata": {},
   "outputs": [
    {
     "data": {
      "text/plain": [
       "0.3957219251336898"
      ]
     },
     "execution_count": 62,
     "metadata": {},
     "output_type": "execute_result"
    }
   ],
   "source": [
    "rf_f1=f1_score(rf_p,y_test)\n",
    "rf_f1"
   ]
  },
  {
   "cell_type": "markdown",
   "id": "acd8896e",
   "metadata": {},
   "source": [
    "# ADA Boost"
   ]
  },
  {
   "cell_type": "code",
   "execution_count": 63,
   "id": "bdc92861",
   "metadata": {},
   "outputs": [],
   "source": [
    "from sklearn.ensemble import AdaBoostClassifier\n",
    "from sklearn.tree import DecisionTreeClassifier"
   ]
  },
  {
   "cell_type": "code",
   "execution_count": 64,
   "id": "4973997e",
   "metadata": {},
   "outputs": [],
   "source": [
    "adbo=AdaBoostClassifier(DecisionTreeClassifier(),n_estimators=5)"
   ]
  },
  {
   "cell_type": "code",
   "execution_count": 65,
   "id": "9e7c165f",
   "metadata": {},
   "outputs": [
    {
     "data": {
      "text/plain": [
       "AdaBoostClassifier(base_estimator=DecisionTreeClassifier(), n_estimators=5)"
      ]
     },
     "execution_count": 65,
     "metadata": {},
     "output_type": "execute_result"
    }
   ],
   "source": [
    "adbo.fit(x_train,y_train)"
   ]
  },
  {
   "cell_type": "code",
   "execution_count": 66,
   "id": "5a20ad21",
   "metadata": {},
   "outputs": [
    {
     "data": {
      "text/plain": [
       "array([1, 0, 0, 0, 1, 0, 0, 0, 0, 0, 1, 0, 0, 1, 1, 0, 0, 0, 0, 1, 1, 0,\n",
       "       1, 1, 1, 1, 0, 0, 1, 1, 1, 0, 1, 1, 0, 0, 1, 0, 0, 0, 1, 1, 0, 0,\n",
       "       1, 1, 0, 1, 0, 0, 1, 0, 0, 0, 0, 1, 1, 1, 0, 0, 0, 1, 1, 1, 0, 0,\n",
       "       1, 0, 0, 0, 0, 1, 1, 0, 0, 0, 0, 1, 1, 0, 0, 0, 1, 0, 1, 0, 0, 0,\n",
       "       1, 0, 1, 0, 1, 0, 0, 0, 0, 0, 0, 0, 1, 0, 1, 0, 1, 0, 1, 1, 1, 0,\n",
       "       0, 1, 0, 0, 0, 0, 0, 1, 1, 1, 0, 0, 0, 1, 0, 0, 0, 0, 0, 0, 1, 1,\n",
       "       1, 1, 1, 1, 1, 1, 1, 0, 0, 0, 0, 1, 0, 1, 1, 1, 0, 0, 0, 0, 1, 0,\n",
       "       1, 1, 0, 1, 0, 1, 1, 0, 0, 0, 0, 0, 1, 0, 0, 0, 1, 0, 0, 0, 0, 1,\n",
       "       0, 1, 1, 1, 1, 0, 0, 1, 0, 1, 0, 1, 1, 1, 0, 1, 1, 0, 1, 0, 0, 0,\n",
       "       0, 0, 1, 0, 1, 0, 0, 0, 1, 0, 0, 0, 0, 1, 0, 0, 0, 1, 0, 1, 1, 1,\n",
       "       1, 0, 0, 0, 1, 1, 0, 1, 1, 0, 1, 0, 0, 1, 0, 0, 0, 1, 0, 0, 0, 0,\n",
       "       0, 1, 0, 0, 1, 0, 1, 0, 0, 0, 1, 1, 1, 0, 1, 0, 0, 1, 1, 0, 0, 1,\n",
       "       1, 0, 0, 0, 0, 1, 0, 0, 0, 1, 0, 1, 0, 0, 0, 0, 0, 0, 0, 1, 1, 0,\n",
       "       1, 0, 1, 1, 0, 1, 0, 1, 0, 0, 0, 0, 0, 0, 0, 0, 0, 1, 1, 1, 1, 1,\n",
       "       1, 0, 1, 0, 1, 0, 0, 1, 0, 1, 0, 0, 0, 1, 1, 0, 0, 1, 1, 0, 1, 0,\n",
       "       1, 0, 0, 1, 0, 1, 0, 1, 1, 0, 0, 1, 0, 0, 0, 0, 1, 0, 0, 1, 0, 1,\n",
       "       0, 1, 0, 0, 0, 0, 1, 1, 1, 0, 1, 1, 0, 0, 1, 0, 1, 1, 1, 0, 0, 1,\n",
       "       0, 0, 0, 1, 1, 0, 0, 0, 0, 1, 0, 0, 0, 0, 1, 0, 0, 0, 0, 0, 0, 0,\n",
       "       0, 0, 0, 0, 1, 1, 0, 0, 1, 1, 0, 1, 1, 0, 0, 0, 0, 0, 1, 0, 0, 0,\n",
       "       1, 0, 1, 0, 1, 1, 1, 0, 0, 0, 1, 1, 0, 1, 1, 1, 1, 0, 0, 0, 0, 1,\n",
       "       1, 1, 1, 0, 1, 0, 1, 1, 1, 0, 1, 1, 0, 1, 0, 1, 0, 0, 0, 0, 0, 1,\n",
       "       1, 0, 1, 0, 0, 0, 1, 1, 0, 0, 0, 1, 0, 1, 1, 0, 0, 1, 1, 1, 0, 0,\n",
       "       1, 0, 0, 0, 1, 0, 0, 0, 0, 0, 0, 1, 0, 0, 1, 0, 0, 0, 1, 1, 1, 1,\n",
       "       0, 0, 0, 1, 0, 0, 1, 0, 1, 0, 0, 0, 1, 0, 0, 0, 1, 1, 1, 0, 0, 0,\n",
       "       0, 1, 0, 1, 1, 1, 0, 0, 0, 0, 1, 1, 0, 1, 0, 1, 0, 1, 0, 0, 0, 0,\n",
       "       0, 1, 1, 0, 0, 0, 0, 1, 0, 0, 0, 0, 1, 1, 0, 0, 1, 0, 0, 0, 0, 0,\n",
       "       0, 0, 0, 0, 0, 0, 1, 0, 0, 0, 0, 0, 0, 1, 1, 1, 1, 0, 1, 1, 0, 0,\n",
       "       0, 0, 1, 1, 1, 0, 1, 0, 0, 0, 0, 0, 1, 0, 1, 0, 0, 0, 1, 1, 0, 1,\n",
       "       0, 0, 1, 0, 1, 0, 0, 0, 0, 1, 1, 1, 0, 1, 1, 1, 0, 0, 0, 1, 1, 0,\n",
       "       1, 0, 0, 1, 1, 0, 0, 0, 1, 0, 0, 0, 0, 0, 0, 0, 0, 0], dtype=int64)"
      ]
     },
     "execution_count": 66,
     "metadata": {},
     "output_type": "execute_result"
    }
   ],
   "source": [
    "ad_p=adbo.predict(x_test)\n",
    "ad_p"
   ]
  },
  {
   "cell_type": "code",
   "execution_count": 67,
   "id": "e038966b",
   "metadata": {},
   "outputs": [
    {
     "data": {
      "text/plain": [
       "array([[261, 134],\n",
       "       [139, 122]], dtype=int64)"
      ]
     },
     "execution_count": 67,
     "metadata": {},
     "output_type": "execute_result"
    }
   ],
   "source": [
    "ad_m=confusion_matrix(ad_p,y_test)\n",
    "ad_m"
   ]
  },
  {
   "cell_type": "code",
   "execution_count": 68,
   "id": "ab80aabb",
   "metadata": {},
   "outputs": [
    {
     "data": {
      "text/plain": [
       "58.38414634146341"
      ]
     },
     "execution_count": 68,
     "metadata": {},
     "output_type": "execute_result"
    }
   ],
   "source": [
    "ad_acc=ad_m.diagonal().sum()/ad_m.sum()*100\n",
    "ad_acc"
   ]
  },
  {
   "cell_type": "code",
   "execution_count": 69,
   "id": "a4958e69",
   "metadata": {},
   "outputs": [
    {
     "data": {
      "text/plain": [
       "0.4765625"
      ]
     },
     "execution_count": 69,
     "metadata": {},
     "output_type": "execute_result"
    }
   ],
   "source": [
    "ad_pr=precision_score(ad_p,y_test)\n",
    "ad_pr"
   ]
  },
  {
   "cell_type": "code",
   "execution_count": 70,
   "id": "69f8de35",
   "metadata": {},
   "outputs": [
    {
     "data": {
      "text/plain": [
       "0.4674329501915709"
      ]
     },
     "execution_count": 70,
     "metadata": {},
     "output_type": "execute_result"
    }
   ],
   "source": [
    "ad_re=recall_score(ad_p,y_test)\n",
    "ad_re"
   ]
  },
  {
   "cell_type": "code",
   "execution_count": 71,
   "id": "f93c2e7d",
   "metadata": {},
   "outputs": [
    {
     "data": {
      "text/plain": [
       "0.4719535783365571"
      ]
     },
     "execution_count": 71,
     "metadata": {},
     "output_type": "execute_result"
    }
   ],
   "source": [
    "ad_f1=f1_score(ad_p,y_test)\n",
    "ad_f1"
   ]
  },
  {
   "cell_type": "code",
   "execution_count": 72,
   "id": "11a2656d",
   "metadata": {},
   "outputs": [
    {
     "name": "stdout",
     "output_type": "stream",
     "text": [
      "              precision    recall  f1-score   support\n",
      "\n",
      "           0       0.65      0.66      0.66       395\n",
      "           1       0.48      0.47      0.47       261\n",
      "\n",
      "    accuracy                           0.58       656\n",
      "   macro avg       0.56      0.56      0.56       656\n",
      "weighted avg       0.58      0.58      0.58       656\n",
      "\n"
     ]
    }
   ],
   "source": [
    "print(classification_report(ad_p,y_test))"
   ]
  },
  {
   "cell_type": "markdown",
   "id": "8153edc3",
   "metadata": {},
   "source": [
    "# XG Boost"
   ]
  },
  {
   "cell_type": "code",
   "execution_count": 73,
   "id": "1154e7f5",
   "metadata": {},
   "outputs": [],
   "source": [
    "from xgboost import XGBClassifier\n",
    "xgb=XGBClassifier()"
   ]
  },
  {
   "cell_type": "code",
   "execution_count": 74,
   "id": "f2b146f4",
   "metadata": {},
   "outputs": [
    {
     "data": {
      "text/plain": [
       "XGBClassifier(base_score=None, booster=None, callbacks=None,\n",
       "              colsample_bylevel=None, colsample_bynode=None,\n",
       "              colsample_bytree=None, early_stopping_rounds=None,\n",
       "              enable_categorical=False, eval_metric=None, feature_types=None,\n",
       "              gamma=None, gpu_id=None, grow_policy=None, importance_type=None,\n",
       "              interaction_constraints=None, learning_rate=None, max_bin=None,\n",
       "              max_cat_threshold=None, max_cat_to_onehot=None,\n",
       "              max_delta_step=None, max_depth=None, max_leaves=None,\n",
       "              min_child_weight=None, missing=nan, monotone_constraints=None,\n",
       "              n_estimators=100, n_jobs=None, num_parallel_tree=None,\n",
       "              predictor=None, random_state=None, ...)"
      ]
     },
     "execution_count": 74,
     "metadata": {},
     "output_type": "execute_result"
    }
   ],
   "source": [
    "xgb.fit(x_train,y_train)"
   ]
  },
  {
   "cell_type": "code",
   "execution_count": 75,
   "id": "9d04c0e3",
   "metadata": {},
   "outputs": [],
   "source": [
    "xgb_p=xgb.predict(x_test)"
   ]
  },
  {
   "cell_type": "code",
   "execution_count": 76,
   "id": "c6501cf4",
   "metadata": {},
   "outputs": [
    {
     "data": {
      "text/plain": [
       "array([[316, 155],\n",
       "       [ 84, 101]], dtype=int64)"
      ]
     },
     "execution_count": 76,
     "metadata": {},
     "output_type": "execute_result"
    }
   ],
   "source": [
    "xgb_m=confusion_matrix(xgb_p,y_test)\n",
    "xgb_m"
   ]
  },
  {
   "cell_type": "code",
   "execution_count": 77,
   "id": "dc655f19",
   "metadata": {},
   "outputs": [
    {
     "data": {
      "text/plain": [
       "63.5670731707317"
      ]
     },
     "execution_count": 77,
     "metadata": {},
     "output_type": "execute_result"
    }
   ],
   "source": [
    "xgb_acc=xgb_m.diagonal().sum()/xgb_m.sum()*100\n",
    "xgb_acc"
   ]
  },
  {
   "cell_type": "code",
   "execution_count": 78,
   "id": "35a35b2f",
   "metadata": {},
   "outputs": [
    {
     "data": {
      "text/plain": [
       "0.39453125"
      ]
     },
     "execution_count": 78,
     "metadata": {},
     "output_type": "execute_result"
    }
   ],
   "source": [
    "xgb_pr=precision_score(xgb_p,y_test)\n",
    "xgb_pr"
   ]
  },
  {
   "cell_type": "code",
   "execution_count": 79,
   "id": "b3919b74",
   "metadata": {},
   "outputs": [
    {
     "data": {
      "text/plain": [
       "0.5459459459459459"
      ]
     },
     "execution_count": 79,
     "metadata": {},
     "output_type": "execute_result"
    }
   ],
   "source": [
    "xgb_re=recall_score(xgb_p,y_test)\n",
    "xgb_re"
   ]
  },
  {
   "cell_type": "code",
   "execution_count": 80,
   "id": "c673b204",
   "metadata": {},
   "outputs": [
    {
     "data": {
      "text/plain": [
       "0.4580498866213152"
      ]
     },
     "execution_count": 80,
     "metadata": {},
     "output_type": "execute_result"
    }
   ],
   "source": [
    "xgb_f1=f1_score(xgb_p,y_test)\n",
    "xgb_f1"
   ]
  },
  {
   "cell_type": "code",
   "execution_count": 81,
   "id": "7b03d0d4",
   "metadata": {},
   "outputs": [
    {
     "name": "stdout",
     "output_type": "stream",
     "text": [
      "              precision    recall  f1-score   support\n",
      "\n",
      "           0       0.79      0.67      0.73       471\n",
      "           1       0.39      0.55      0.46       185\n",
      "\n",
      "    accuracy                           0.64       656\n",
      "   macro avg       0.59      0.61      0.59       656\n",
      "weighted avg       0.68      0.64      0.65       656\n",
      "\n"
     ]
    }
   ],
   "source": [
    "print(classification_report(xgb_p,y_test))"
   ]
  },
  {
   "cell_type": "markdown",
   "id": "bfccf2f3",
   "metadata": {},
   "source": [
    "# SVM"
   ]
  },
  {
   "cell_type": "code",
   "execution_count": 82,
   "id": "f94c5d83",
   "metadata": {},
   "outputs": [],
   "source": [
    "from sklearn.svm import SVC\n",
    "svc=SVC()"
   ]
  },
  {
   "cell_type": "code",
   "execution_count": 83,
   "id": "7eabf63d",
   "metadata": {},
   "outputs": [
    {
     "data": {
      "text/plain": [
       "SVC()"
      ]
     },
     "execution_count": 83,
     "metadata": {},
     "output_type": "execute_result"
    }
   ],
   "source": [
    "svc.fit(x_train,y_train)"
   ]
  },
  {
   "cell_type": "code",
   "execution_count": 84,
   "id": "cbecfecc",
   "metadata": {},
   "outputs": [],
   "source": [
    "svm_p=svc.predict(x_test)"
   ]
  },
  {
   "cell_type": "code",
   "execution_count": 85,
   "id": "12e13c1e",
   "metadata": {},
   "outputs": [
    {
     "data": {
      "text/plain": [
       "array([[400, 256],\n",
       "       [  0,   0]], dtype=int64)"
      ]
     },
     "execution_count": 85,
     "metadata": {},
     "output_type": "execute_result"
    }
   ],
   "source": [
    "svm_m=confusion_matrix(svm_p,y_test)\n",
    "svm_m"
   ]
  },
  {
   "cell_type": "code",
   "execution_count": 86,
   "id": "9a622c52",
   "metadata": {},
   "outputs": [
    {
     "data": {
      "text/plain": [
       "60.97560975609756"
      ]
     },
     "execution_count": 86,
     "metadata": {},
     "output_type": "execute_result"
    }
   ],
   "source": [
    "svm_acc=svm_m.diagonal().sum()/svm_m.sum()*100\n",
    "svm_acc"
   ]
  },
  {
   "cell_type": "code",
   "execution_count": 87,
   "id": "a08520fd",
   "metadata": {},
   "outputs": [
    {
     "data": {
      "text/plain": [
       "0.0"
      ]
     },
     "execution_count": 87,
     "metadata": {},
     "output_type": "execute_result"
    }
   ],
   "source": [
    "svm_pr=precision_score(svm_p,y_test)\n",
    "svm_pr"
   ]
  },
  {
   "cell_type": "code",
   "execution_count": 88,
   "id": "bf3a6faa",
   "metadata": {},
   "outputs": [],
   "source": [
    "svm_re=0.00"
   ]
  },
  {
   "cell_type": "code",
   "execution_count": 89,
   "id": "935d6b67",
   "metadata": {},
   "outputs": [],
   "source": [
    "svm_f1=0.00"
   ]
  },
  {
   "cell_type": "markdown",
   "id": "4115f04e",
   "metadata": {},
   "source": [
    "# Naive Bayes"
   ]
  },
  {
   "cell_type": "code",
   "execution_count": 90,
   "id": "1b1a3b0d",
   "metadata": {},
   "outputs": [],
   "source": [
    "from sklearn.naive_bayes import MultinomialNB\n",
    "nb=MultinomialNB()"
   ]
  },
  {
   "cell_type": "code",
   "execution_count": 91,
   "id": "49836135",
   "metadata": {},
   "outputs": [
    {
     "data": {
      "text/plain": [
       "MultinomialNB()"
      ]
     },
     "execution_count": 91,
     "metadata": {},
     "output_type": "execute_result"
    }
   ],
   "source": [
    "nb.fit(x_train,y_train)"
   ]
  },
  {
   "cell_type": "code",
   "execution_count": 92,
   "id": "75ea5620",
   "metadata": {},
   "outputs": [],
   "source": [
    "n_p=nb.predict(x_test)\n"
   ]
  },
  {
   "cell_type": "code",
   "execution_count": 93,
   "id": "42bbcaf1",
   "metadata": {},
   "outputs": [
    {
     "data": {
      "text/plain": [
       "array([[248, 133],\n",
       "       [152, 123]], dtype=int64)"
      ]
     },
     "execution_count": 93,
     "metadata": {},
     "output_type": "execute_result"
    }
   ],
   "source": [
    "n_m=confusion_matrix(n_p,y_test)\n",
    "n_m"
   ]
  },
  {
   "cell_type": "code",
   "execution_count": 94,
   "id": "30ab6fc6",
   "metadata": {},
   "outputs": [
    {
     "data": {
      "text/plain": [
       "56.55487804878049"
      ]
     },
     "execution_count": 94,
     "metadata": {},
     "output_type": "execute_result"
    }
   ],
   "source": [
    "n_acc=n_m.diagonal().sum()/n_m.sum()*100\n",
    "n_acc"
   ]
  },
  {
   "cell_type": "code",
   "execution_count": 95,
   "id": "e3be44c2",
   "metadata": {},
   "outputs": [
    {
     "data": {
      "text/plain": [
       "0.48046875"
      ]
     },
     "execution_count": 95,
     "metadata": {},
     "output_type": "execute_result"
    }
   ],
   "source": [
    "n_pr=precision_score(n_p,y_test)\n",
    "n_pr"
   ]
  },
  {
   "cell_type": "code",
   "execution_count": 96,
   "id": "96989e39",
   "metadata": {},
   "outputs": [
    {
     "data": {
      "text/plain": [
       "0.44727272727272727"
      ]
     },
     "execution_count": 96,
     "metadata": {},
     "output_type": "execute_result"
    }
   ],
   "source": [
    "n_re=recall_score(n_p,y_test)\n",
    "n_re"
   ]
  },
  {
   "cell_type": "code",
   "execution_count": 97,
   "id": "9e95d362",
   "metadata": {},
   "outputs": [
    {
     "data": {
      "text/plain": [
       "0.4632768361581921"
      ]
     },
     "execution_count": 97,
     "metadata": {},
     "output_type": "execute_result"
    }
   ],
   "source": [
    "n_f1=f1_score(n_p,y_test)\n",
    "n_f1"
   ]
  },
  {
   "cell_type": "code",
   "execution_count": 98,
   "id": "c7e0316f",
   "metadata": {},
   "outputs": [
    {
     "name": "stdout",
     "output_type": "stream",
     "text": [
      "              precision    recall  f1-score   support\n",
      "\n",
      "           0       0.62      0.65      0.64       381\n",
      "           1       0.48      0.45      0.46       275\n",
      "\n",
      "    accuracy                           0.57       656\n",
      "   macro avg       0.55      0.55      0.55       656\n",
      "weighted avg       0.56      0.57      0.56       656\n",
      "\n"
     ]
    }
   ],
   "source": [
    "print(classification_report(n_p,y_test))"
   ]
  },
  {
   "cell_type": "markdown",
   "id": "96b52fb1",
   "metadata": {},
   "source": [
    "# Conclusion"
   ]
  },
  {
   "cell_type": "code",
   "execution_count": 99,
   "id": "5d33dbad",
   "metadata": {},
   "outputs": [],
   "source": [
    "list1=[\"Logistic Regression\",\"Decision Tree\",\"KNN\",\"Random forest\",\"ADA Boost\",\"XG Boost\",\"SVM\",\"Naivy Bayes\"]\n",
    "list2=[lg_acc,dt_acc,k_acc,rf_acc,ad_acc,xgb_acc,svm_acc,n_acc]\n",
    "list3=[lg_pr,dt_pr,k_pr,rf_pr,ad_pr,xgb_pr,svm_pr,n_pr]\n",
    "list4=[lg_re,dt_re,k_re,rf_re,ad_re,xgb_re,svm_re,n_re]\n",
    "list5=[lg_f1,dt_f1,k_f1,rf_f1,ad_f1,xgb_f1,svm_f1,n_f1]"
   ]
  },
  {
   "cell_type": "code",
   "execution_count": 100,
   "id": "a2aaa291",
   "metadata": {},
   "outputs": [
    {
     "data": {
      "text/html": [
       "<div>\n",
       "<style scoped>\n",
       "    .dataframe tbody tr th:only-of-type {\n",
       "        vertical-align: middle;\n",
       "    }\n",
       "\n",
       "    .dataframe tbody tr th {\n",
       "        vertical-align: top;\n",
       "    }\n",
       "\n",
       "    .dataframe thead th {\n",
       "        text-align: right;\n",
       "    }\n",
       "</style>\n",
       "<table border=\"1\" class=\"dataframe\">\n",
       "  <thead>\n",
       "    <tr style=\"text-align: right;\">\n",
       "      <th></th>\n",
       "      <th>Model Name</th>\n",
       "      <th>Accuracy</th>\n",
       "      <th>precision</th>\n",
       "      <th>recall</th>\n",
       "      <th>f1-score</th>\n",
       "    </tr>\n",
       "  </thead>\n",
       "  <tbody>\n",
       "    <tr>\n",
       "      <th>0</th>\n",
       "      <td>Logistic Regression</td>\n",
       "      <td>60.975610</td>\n",
       "      <td>0.000000</td>\n",
       "      <td>0.000000</td>\n",
       "      <td>0.000000</td>\n",
       "    </tr>\n",
       "    <tr>\n",
       "      <th>1</th>\n",
       "      <td>Decision Tree</td>\n",
       "      <td>59.146341</td>\n",
       "      <td>0.464844</td>\n",
       "      <td>0.476000</td>\n",
       "      <td>0.470356</td>\n",
       "    </tr>\n",
       "    <tr>\n",
       "      <th>2</th>\n",
       "      <td>KNN</td>\n",
       "      <td>55.335366</td>\n",
       "      <td>0.261719</td>\n",
       "      <td>0.411043</td>\n",
       "      <td>0.319809</td>\n",
       "    </tr>\n",
       "    <tr>\n",
       "      <th>3</th>\n",
       "      <td>Random forest</td>\n",
       "      <td>65.548780</td>\n",
       "      <td>0.289062</td>\n",
       "      <td>0.627119</td>\n",
       "      <td>0.395722</td>\n",
       "    </tr>\n",
       "    <tr>\n",
       "      <th>4</th>\n",
       "      <td>ADA Boost</td>\n",
       "      <td>58.384146</td>\n",
       "      <td>0.476562</td>\n",
       "      <td>0.467433</td>\n",
       "      <td>0.471954</td>\n",
       "    </tr>\n",
       "    <tr>\n",
       "      <th>5</th>\n",
       "      <td>XG Boost</td>\n",
       "      <td>63.567073</td>\n",
       "      <td>0.394531</td>\n",
       "      <td>0.545946</td>\n",
       "      <td>0.458050</td>\n",
       "    </tr>\n",
       "    <tr>\n",
       "      <th>6</th>\n",
       "      <td>SVM</td>\n",
       "      <td>60.975610</td>\n",
       "      <td>0.000000</td>\n",
       "      <td>0.000000</td>\n",
       "      <td>0.000000</td>\n",
       "    </tr>\n",
       "    <tr>\n",
       "      <th>7</th>\n",
       "      <td>Naivy Bayes</td>\n",
       "      <td>56.554878</td>\n",
       "      <td>0.480469</td>\n",
       "      <td>0.447273</td>\n",
       "      <td>0.463277</td>\n",
       "    </tr>\n",
       "  </tbody>\n",
       "</table>\n",
       "</div>"
      ],
      "text/plain": [
       "            Model Name   Accuracy  precision    recall  f1-score\n",
       "0  Logistic Regression  60.975610   0.000000  0.000000  0.000000\n",
       "1        Decision Tree  59.146341   0.464844  0.476000  0.470356\n",
       "2                  KNN  55.335366   0.261719  0.411043  0.319809\n",
       "3        Random forest  65.548780   0.289062  0.627119  0.395722\n",
       "4            ADA Boost  58.384146   0.476562  0.467433  0.471954\n",
       "5             XG Boost  63.567073   0.394531  0.545946  0.458050\n",
       "6                  SVM  60.975610   0.000000  0.000000  0.000000\n",
       "7          Naivy Bayes  56.554878   0.480469  0.447273  0.463277"
      ]
     },
     "execution_count": 100,
     "metadata": {},
     "output_type": "execute_result"
    }
   ],
   "source": [
    "dataframe1=pd.DataFrame({\"Model Name\":list1,\"Accuracy\":list2,\"precision\":list3,\"recall\":list4,\"f1-score\":list5})\n",
    "dataframe1"
   ]
  },
  {
   "cell_type": "markdown",
   "id": "9a1a4ba0",
   "metadata": {},
   "source": [
    "# Classimbalance"
   ]
  },
  {
   "cell_type": "markdown",
   "id": "2454760d",
   "metadata": {},
   "source": [
    "# Random OverSampling"
   ]
  },
  {
   "cell_type": "code",
   "execution_count": 101,
   "id": "a14676d9",
   "metadata": {},
   "outputs": [
    {
     "data": {
      "text/plain": [
       "(1998, 1278)"
      ]
     },
     "execution_count": 101,
     "metadata": {},
     "output_type": "execute_result"
    }
   ],
   "source": [
    "c_0,c_1=df[\"Potability\"].value_counts()\n",
    "c_0,c_1"
   ]
  },
  {
   "cell_type": "code",
   "execution_count": 102,
   "id": "b873ea0a",
   "metadata": {},
   "outputs": [],
   "source": [
    "df_0=df[df[\"Potability\"]==0]\n",
    "df_1=df[df[\"Potability\"]==1]"
   ]
  },
  {
   "cell_type": "code",
   "execution_count": 103,
   "id": "b698080c",
   "metadata": {},
   "outputs": [
    {
     "data": {
      "text/plain": [
       "((1998, 10), (1278, 10))"
      ]
     },
     "execution_count": 103,
     "metadata": {},
     "output_type": "execute_result"
    }
   ],
   "source": [
    "df_0.shape,df_1.shape"
   ]
  },
  {
   "cell_type": "code",
   "execution_count": 104,
   "id": "2cec9ce4",
   "metadata": {},
   "outputs": [],
   "source": [
    "class_1over=df_1.sample(c_0,replace=True)"
   ]
  },
  {
   "cell_type": "code",
   "execution_count": 105,
   "id": "01edcb14",
   "metadata": {},
   "outputs": [],
   "source": [
    "class1_0=pd.concat([class_1over,df_0],axis=0)\n"
   ]
  },
  {
   "cell_type": "code",
   "execution_count": 106,
   "id": "e0100593",
   "metadata": {},
   "outputs": [
    {
     "data": {
      "text/plain": [
       "(3996, 10)"
      ]
     },
     "execution_count": 106,
     "metadata": {},
     "output_type": "execute_result"
    }
   ],
   "source": [
    "\n",
    "class1_0.shape"
   ]
  },
  {
   "cell_type": "code",
   "execution_count": 107,
   "id": "fd1fd883",
   "metadata": {},
   "outputs": [
    {
     "data": {
      "text/plain": [
       "1    1998\n",
       "0    1998\n",
       "Name: Potability, dtype: int64"
      ]
     },
     "execution_count": 107,
     "metadata": {},
     "output_type": "execute_result"
    }
   ],
   "source": [
    "class1_0.Potability.value_counts()"
   ]
  },
  {
   "cell_type": "code",
   "execution_count": 108,
   "id": "c2638ebd",
   "metadata": {},
   "outputs": [
    {
     "data": {
      "text/plain": [
       "ph                 0\n",
       "Hardness           0\n",
       "Solids             0\n",
       "Chloramines        0\n",
       "Sulfate            0\n",
       "Conductivity       0\n",
       "Organic_carbon     0\n",
       "Trihalomethanes    0\n",
       "Turbidity          0\n",
       "Potability         0\n",
       "dtype: int64"
      ]
     },
     "execution_count": 108,
     "metadata": {},
     "output_type": "execute_result"
    }
   ],
   "source": [
    "class1_0.isnull().sum()"
   ]
  },
  {
   "cell_type": "code",
   "execution_count": 109,
   "id": "5efcf27b",
   "metadata": {},
   "outputs": [
    {
     "data": {
      "text/plain": [
       "ph                 float64\n",
       "Hardness           float64\n",
       "Solids             float64\n",
       "Chloramines        float64\n",
       "Sulfate            float64\n",
       "Conductivity       float64\n",
       "Organic_carbon     float64\n",
       "Trihalomethanes    float64\n",
       "Turbidity          float64\n",
       "Potability           int64\n",
       "dtype: object"
      ]
     },
     "execution_count": 109,
     "metadata": {},
     "output_type": "execute_result"
    }
   ],
   "source": [
    "class1_0.dtypes"
   ]
  },
  {
   "cell_type": "code",
   "execution_count": 110,
   "id": "30b76b5d",
   "metadata": {},
   "outputs": [
    {
     "data": {
      "text/plain": [
       "<function matplotlib.pyplot.show(close=None, block=None)>"
      ]
     },
     "execution_count": 110,
     "metadata": {},
     "output_type": "execute_result"
    },
    {
     "data": {
      "image/png": "[encoded data removed]",
      "text/plain": [
       "<Figure size 640x480 with 1 Axes>"
      ]
     },
     "metadata": {},
     "output_type": "display_data"
    }
   ],
   "source": [
    "sns.countplot(class1_0[\"Potability\"])\n",
    "plt.show"
   ]
  },
  {
   "cell_type": "code",
   "execution_count": 111,
   "id": "7b04d9ef",
   "metadata": {},
   "outputs": [
    {
     "data": {
      "text/html": [
       "<div>\n",
       "<style scoped>\n",
       "    .dataframe tbody tr th:only-of-type {\n",
       "        vertical-align: middle;\n",
       "    }\n",
       "\n",
       "    .dataframe tbody tr th {\n",
       "        vertical-align: top;\n",
       "    }\n",
       "\n",
       "    .dataframe thead th {\n",
       "        text-align: right;\n",
       "    }\n",
       "</style>\n",
       "<table border=\"1\" class=\"dataframe\">\n",
       "  <thead>\n",
       "    <tr style=\"text-align: right;\">\n",
       "      <th></th>\n",
       "      <th>ph</th>\n",
       "      <th>Hardness</th>\n",
       "      <th>Solids</th>\n",
       "      <th>Chloramines</th>\n",
       "      <th>Sulfate</th>\n",
       "      <th>Conductivity</th>\n",
       "      <th>Organic_carbon</th>\n",
       "      <th>Trihalomethanes</th>\n",
       "      <th>Turbidity</th>\n",
       "      <th>Potability</th>\n",
       "    </tr>\n",
       "  </thead>\n",
       "  <tbody>\n",
       "    <tr>\n",
       "      <th>ph</th>\n",
       "      <td>1.000000</td>\n",
       "      <td>0.049774</td>\n",
       "      <td>-0.036974</td>\n",
       "      <td>-0.000244</td>\n",
       "      <td>-0.040519</td>\n",
       "      <td>0.038472</td>\n",
       "      <td>0.033603</td>\n",
       "      <td>-0.001726</td>\n",
       "      <td>-0.022646</td>\n",
       "      <td>0.002844</td>\n",
       "    </tr>\n",
       "    <tr>\n",
       "      <th>Hardness</th>\n",
       "      <td>0.049774</td>\n",
       "      <td>1.000000</td>\n",
       "      <td>-0.040962</td>\n",
       "      <td>-0.015081</td>\n",
       "      <td>-0.084430</td>\n",
       "      <td>-0.030985</td>\n",
       "      <td>-0.002189</td>\n",
       "      <td>0.013166</td>\n",
       "      <td>-0.026849</td>\n",
       "      <td>0.002349</td>\n",
       "    </tr>\n",
       "    <tr>\n",
       "      <th>Solids</th>\n",
       "      <td>-0.036974</td>\n",
       "      <td>-0.040962</td>\n",
       "      <td>1.000000</td>\n",
       "      <td>-0.053917</td>\n",
       "      <td>-0.193908</td>\n",
       "      <td>0.019075</td>\n",
       "      <td>0.008329</td>\n",
       "      <td>-0.011561</td>\n",
       "      <td>0.017520</td>\n",
       "      <td>0.043585</td>\n",
       "    </tr>\n",
       "    <tr>\n",
       "      <th>Chloramines</th>\n",
       "      <td>-0.000244</td>\n",
       "      <td>-0.015081</td>\n",
       "      <td>-0.053917</td>\n",
       "      <td>1.000000</td>\n",
       "      <td>0.028466</td>\n",
       "      <td>0.002888</td>\n",
       "      <td>-0.026486</td>\n",
       "      <td>0.008523</td>\n",
       "      <td>0.013119</td>\n",
       "      <td>0.018906</td>\n",
       "    </tr>\n",
       "    <tr>\n",
       "      <th>Sulfate</th>\n",
       "      <td>-0.040519</td>\n",
       "      <td>-0.084430</td>\n",
       "      <td>-0.193908</td>\n",
       "      <td>0.028466</td>\n",
       "      <td>1.000000</td>\n",
       "      <td>-0.026652</td>\n",
       "      <td>0.043804</td>\n",
       "      <td>-0.028123</td>\n",
       "      <td>-0.001190</td>\n",
       "      <td>-0.042320</td>\n",
       "    </tr>\n",
       "    <tr>\n",
       "      <th>Conductivity</th>\n",
       "      <td>0.038472</td>\n",
       "      <td>-0.030985</td>\n",
       "      <td>0.019075</td>\n",
       "      <td>0.002888</td>\n",
       "      <td>-0.026652</td>\n",
       "      <td>1.000000</td>\n",
       "      <td>0.048585</td>\n",
       "      <td>0.020722</td>\n",
       "      <td>0.009808</td>\n",
       "      <td>-0.007984</td>\n",
       "    </tr>\n",
       "    <tr>\n",
       "      <th>Organic_carbon</th>\n",
       "      <td>0.033603</td>\n",
       "      <td>-0.002189</td>\n",
       "      <td>0.008329</td>\n",
       "      <td>-0.026486</td>\n",
       "      <td>0.043804</td>\n",
       "      <td>0.048585</td>\n",
       "      <td>1.000000</td>\n",
       "      <td>-0.030801</td>\n",
       "      <td>-0.014058</td>\n",
       "      <td>-0.031588</td>\n",
       "    </tr>\n",
       "    <tr>\n",
       "      <th>Trihalomethanes</th>\n",
       "      <td>-0.001726</td>\n",
       "      <td>0.013166</td>\n",
       "      <td>-0.011561</td>\n",
       "      <td>0.008523</td>\n",
       "      <td>-0.028123</td>\n",
       "      <td>0.020722</td>\n",
       "      <td>-0.030801</td>\n",
       "      <td>1.000000</td>\n",
       "      <td>-0.030055</td>\n",
       "      <td>0.001870</td>\n",
       "    </tr>\n",
       "    <tr>\n",
       "      <th>Turbidity</th>\n",
       "      <td>-0.022646</td>\n",
       "      <td>-0.026849</td>\n",
       "      <td>0.017520</td>\n",
       "      <td>0.013119</td>\n",
       "      <td>-0.001190</td>\n",
       "      <td>0.009808</td>\n",
       "      <td>-0.014058</td>\n",
       "      <td>-0.030055</td>\n",
       "      <td>1.000000</td>\n",
       "      <td>0.005594</td>\n",
       "    </tr>\n",
       "    <tr>\n",
       "      <th>Potability</th>\n",
       "      <td>0.002844</td>\n",
       "      <td>0.002349</td>\n",
       "      <td>0.043585</td>\n",
       "      <td>0.018906</td>\n",
       "      <td>-0.042320</td>\n",
       "      <td>-0.007984</td>\n",
       "      <td>-0.031588</td>\n",
       "      <td>0.001870</td>\n",
       "      <td>0.005594</td>\n",
       "      <td>1.000000</td>\n",
       "    </tr>\n",
       "  </tbody>\n",
       "</table>\n",
       "</div>"
      ],
      "text/plain": [
       "                       ph  Hardness    Solids  Chloramines   Sulfate  \\\n",
       "ph               1.000000  0.049774 -0.036974    -0.000244 -0.040519   \n",
       "Hardness         0.049774  1.000000 -0.040962    -0.015081 -0.084430   \n",
       "Solids          -0.036974 -0.040962  1.000000    -0.053917 -0.193908   \n",
       "Chloramines     -0.000244 -0.015081 -0.053917     1.000000  0.028466   \n",
       "Sulfate         -0.040519 -0.084430 -0.193908     0.028466  1.000000   \n",
       "Conductivity     0.038472 -0.030985  0.019075     0.002888 -0.026652   \n",
       "Organic_carbon   0.033603 -0.002189  0.008329    -0.026486  0.043804   \n",
       "Trihalomethanes -0.001726  0.013166 -0.011561     0.008523 -0.028123   \n",
       "Turbidity       -0.022646 -0.026849  0.017520     0.013119 -0.001190   \n",
       "Potability       0.002844  0.002349  0.043585     0.018906 -0.042320   \n",
       "\n",
       "                 Conductivity  Organic_carbon  Trihalomethanes  Turbidity  \\\n",
       "ph                   0.038472        0.033603        -0.001726  -0.022646   \n",
       "Hardness            -0.030985       -0.002189         0.013166  -0.026849   \n",
       "Solids               0.019075        0.008329        -0.011561   0.017520   \n",
       "Chloramines          0.002888       -0.026486         0.008523   0.013119   \n",
       "Sulfate             -0.026652        0.043804        -0.028123  -0.001190   \n",
       "Conductivity         1.000000        0.048585         0.020722   0.009808   \n",
       "Organic_carbon       0.048585        1.000000        -0.030801  -0.014058   \n",
       "Trihalomethanes      0.020722       -0.030801         1.000000  -0.030055   \n",
       "Turbidity            0.009808       -0.014058        -0.030055   1.000000   \n",
       "Potability          -0.007984       -0.031588         0.001870   0.005594   \n",
       "\n",
       "                 Potability  \n",
       "ph                 0.002844  \n",
       "Hardness           0.002349  \n",
       "Solids             0.043585  \n",
       "Chloramines        0.018906  \n",
       "Sulfate           -0.042320  \n",
       "Conductivity      -0.007984  \n",
       "Organic_carbon    -0.031588  \n",
       "Trihalomethanes    0.001870  \n",
       "Turbidity          0.005594  \n",
       "Potability         1.000000  "
      ]
     },
     "execution_count": 111,
     "metadata": {},
     "output_type": "execute_result"
    }
   ],
   "source": [
    "x=class1_0.corr() # To find correlation matrix\n",
    "x"
   ]
  },
  {
   "cell_type": "code",
   "execution_count": 112,
   "id": "d2d96f2b",
   "metadata": {},
   "outputs": [
    {
     "data": {
      "image/png": "[encoded data removed]",
      "text/plain": [
       "<Figure size 1500x1000 with 2 Axes>"
      ]
     },
     "metadata": {},
     "output_type": "display_data"
    }
   ],
   "source": [
    "plt.figure(figsize=(15,10))\n",
    "plt.title(\"Heatmap of Correlation\")\n",
    "heatmap=sns.heatmap(x,linewidth=1,annot=True,cmap=\"coolwarm\")\n",
    "plt.show()"
   ]
  },
  {
   "cell_type": "markdown",
   "id": "f20d41e7",
   "metadata": {},
   "source": [
    "# Outliers"
   ]
  },
  {
   "cell_type": "code",
   "execution_count": 113,
   "id": "05ec0b75",
   "metadata": {
    "scrolled": true
   },
   "outputs": [
    {
     "data": {
      "image/png": "[encoded data removed]",
      "text/plain": [
       "<Figure size 2000x1000 with 1 Axes>"
      ]
     },
     "metadata": {},
     "output_type": "display_data"
    }
   ],
   "source": [
    "plt.figure(figsize=(20,10))  #outliers treatement\n",
    "sns.boxplot(data=class1_0)\n",
    "plt.show()"
   ]
  },
  {
   "cell_type": "markdown",
   "id": "90f36a09",
   "metadata": {},
   "source": [
    "# Outliers Treatment for Solids"
   ]
  },
  {
   "cell_type": "code",
   "execution_count": 114,
   "id": "b80d745c",
   "metadata": {},
   "outputs": [
    {
     "data": {
      "text/plain": [
       "<AxesSubplot:ylabel='Solids'>"
      ]
     },
     "execution_count": 114,
     "metadata": {},
     "output_type": "execute_result"
    },
    {
     "data": {
      "image/png": "[encoded data removed]",
      "text/plain": [
       "<Figure size 640x480 with 1 Axes>"
      ]
     },
     "metadata": {},
     "output_type": "display_data"
    }
   ],
   "source": [
    "sns.boxplot(data=class1_0,y=\"Solids\")"
   ]
  },
  {
   "cell_type": "code",
   "execution_count": 115,
   "id": "3ba42586",
   "metadata": {},
   "outputs": [
    {
     "data": {
      "text/plain": [
       "<AxesSubplot:>"
      ]
     },
     "execution_count": 115,
     "metadata": {},
     "output_type": "execute_result"
    },
    {
     "data": {
      "image/png": "[encoded data removed]",
      "text/plain": [
       "<Figure size 640x480 with 1 Axes>"
      ]
     },
     "metadata": {},
     "output_type": "display_data"
    }
   ],
   "source": [
    "class1_0.Solids.hist()"
   ]
  },
  {
   "cell_type": "code",
   "execution_count": 116,
   "id": "634d31d0",
   "metadata": {},
   "outputs": [
    {
     "data": {
      "text/plain": [
       "count     3996.000000\n",
       "mean     22162.114315\n",
       "std       8825.741523\n",
       "min        320.942611\n",
       "25%      15670.407869\n",
       "50%      21051.311141\n",
       "75%      27569.835158\n",
       "max      61227.196008\n",
       "Name: Solids, dtype: float64"
      ]
     },
     "execution_count": 116,
     "metadata": {},
     "output_type": "execute_result"
    }
   ],
   "source": [
    "class1_0.Solids.describe()"
   ]
  },
  {
   "cell_type": "code",
   "execution_count": 117,
   "id": "eeee14c5",
   "metadata": {},
   "outputs": [
    {
     "data": {
      "text/plain": [
       "26188.162174    6\n",
       "24814.485805    6\n",
       "16897.307041    6\n",
       "23318.187976    6\n",
       "30211.832991    6\n",
       "               ..\n",
       "27951.613070    1\n",
       "16061.590098    1\n",
       "27840.694210    1\n",
       "11562.435510    1\n",
       "27971.891806    1\n",
       "Name: Solids, Length: 2977, dtype: int64"
      ]
     },
     "execution_count": 117,
     "metadata": {},
     "output_type": "execute_result"
    }
   ],
   "source": [
    "class1_0.Solids.value_counts()"
   ]
  },
  {
   "cell_type": "code",
   "execution_count": 118,
   "id": "172921d0",
   "metadata": {},
   "outputs": [
    {
     "data": {
      "image/png": "[encoded data removed]",
      "text/plain": [
       "<Figure size 500x500 with 1 Axes>"
      ]
     },
     "metadata": {},
     "output_type": "display_data"
    }
   ],
   "source": [
    "fig=plt.figure(figsize=(5,5))\n",
    "sns.distplot(class1_0.Solids)\n",
    "plt.show()"
   ]
  },
  {
   "cell_type": "code",
   "execution_count": 119,
   "id": "657a59ae",
   "metadata": {},
   "outputs": [
    {
     "name": "stdout",
     "output_type": "stream",
     "text": [
      "-4315.110254082741 48639.33888375382\n"
     ]
    }
   ],
   "source": [
    "upperboundry=class1_0[\"Solids\"].mean()+3*class1_0[\"Solids\"].std()\n",
    "lowerboundry=class1_0[\"Solids\"].mean()-3*class1_0[\"Solids\"].std()\n",
    "print(lowerboundry,upperboundry)"
   ]
  },
  {
   "cell_type": "code",
   "execution_count": 120,
   "id": "adc1f085",
   "metadata": {},
   "outputs": [],
   "source": [
    "class1_0.loc[class1_0[\"Solids\"]>48718.898755553106, \"Solids\"]=48718.898755553106"
   ]
  },
  {
   "cell_type": "code",
   "execution_count": 121,
   "id": "ce8e6d3f",
   "metadata": {},
   "outputs": [
    {
     "data": {
      "image/png": "[encoded data removed]",
      "text/plain": [
       "<Figure size 500x500 with 1 Axes>"
      ]
     },
     "metadata": {},
     "output_type": "display_data"
    }
   ],
   "source": [
    "fig=plt.figure(figsize=(5,5))\n",
    "sns.distplot(class1_0.Solids)\n",
    "plt.show()"
   ]
  },
  {
   "cell_type": "markdown",
   "id": "1fa4fe8a",
   "metadata": {},
   "source": [
    "# Skewness treatment"
   ]
  },
  {
   "cell_type": "code",
   "execution_count": 122,
   "id": "7b8dc729",
   "metadata": {},
   "outputs": [
    {
     "data": {
      "text/plain": [
       "ph                -0.016174\n",
       "Hardness          -0.019737\n",
       "Solids             0.541755\n",
       "Chloramines        0.089417\n",
       "Sulfate           -0.238597\n",
       "Conductivity       0.265000\n",
       "Organic_carbon     0.054655\n",
       "Trihalomethanes   -0.113813\n",
       "Turbidity         -0.045151\n",
       "Potability         0.000000\n",
       "dtype: float64"
      ]
     },
     "execution_count": 122,
     "metadata": {},
     "output_type": "execute_result"
    }
   ],
   "source": [
    "class1_0.skew()"
   ]
  },
  {
   "cell_type": "code",
   "execution_count": 123,
   "id": "8d703435",
   "metadata": {},
   "outputs": [
    {
     "data": {
      "text/plain": [
       "-0.0161737211151937"
      ]
     },
     "execution_count": 123,
     "metadata": {},
     "output_type": "execute_result"
    }
   ],
   "source": [
    "class1_0.ph.skew()"
   ]
  },
  {
   "cell_type": "code",
   "execution_count": 124,
   "id": "5a3de43e",
   "metadata": {},
   "outputs": [],
   "source": [
    "o_x=class1_0.iloc[:,0:-1]\n",
    "o_y=class1_0.iloc[:,-1]"
   ]
  },
  {
   "cell_type": "code",
   "execution_count": 125,
   "id": "5f7a1a6c",
   "metadata": {},
   "outputs": [
    {
     "data": {
      "text/plain": [
       "((3196, 9), (800, 9), (3196,), (800,))"
      ]
     },
     "execution_count": 125,
     "metadata": {},
     "output_type": "execute_result"
    }
   ],
   "source": [
    "o_x_train,o_x_test,o_y_train,o_y_test=train_test_split(o_x,o_y,test_size=0.2,random_state=100)\n",
    "o_x_train.shape,o_x_test.shape,o_y_train.shape,o_y_test.shape"
   ]
  },
  {
   "cell_type": "markdown",
   "id": "892be3ab",
   "metadata": {},
   "source": [
    "# Logistic Regression with Random Oversampling"
   ]
  },
  {
   "cell_type": "code",
   "execution_count": 126,
   "id": "73178e9d",
   "metadata": {},
   "outputs": [
    {
     "data": {
      "text/plain": [
       "LogisticRegression()"
      ]
     },
     "execution_count": 126,
     "metadata": {},
     "output_type": "execute_result"
    }
   ],
   "source": [
    "lg.fit(o_x_train,o_y_train)"
   ]
  },
  {
   "cell_type": "code",
   "execution_count": 127,
   "id": "4f5dc8d6",
   "metadata": {},
   "outputs": [],
   "source": [
    "lg_op=lg.predict(o_x_test)"
   ]
  },
  {
   "cell_type": "code",
   "execution_count": 128,
   "id": "061bffd1",
   "metadata": {},
   "outputs": [
    {
     "data": {
      "text/plain": [
       "array([[228, 265],\n",
       "       [152, 155]], dtype=int64)"
      ]
     },
     "execution_count": 128,
     "metadata": {},
     "output_type": "execute_result"
    }
   ],
   "source": [
    "lg_ocf=confusion_matrix(lg_op,o_y_test)\n",
    "lg_ocf"
   ]
  },
  {
   "cell_type": "code",
   "execution_count": 129,
   "id": "1509487c",
   "metadata": {},
   "outputs": [
    {
     "data": {
      "text/plain": [
       "47.875"
      ]
     },
     "execution_count": 129,
     "metadata": {},
     "output_type": "execute_result"
    }
   ],
   "source": [
    "lg_oacc=lg_ocf.diagonal().sum()/lg_ocf.sum()*100\n",
    "lg_oacc"
   ]
  },
  {
   "cell_type": "code",
   "execution_count": 130,
   "id": "370ef6d4",
   "metadata": {},
   "outputs": [
    {
     "data": {
      "text/plain": [
       "0.36904761904761907"
      ]
     },
     "execution_count": 130,
     "metadata": {},
     "output_type": "execute_result"
    }
   ],
   "source": [
    "lg_opr=precision_score(lg_op,o_y_test)\n",
    "lg_opr"
   ]
  },
  {
   "cell_type": "code",
   "execution_count": 131,
   "id": "b8bb9d26",
   "metadata": {},
   "outputs": [
    {
     "data": {
      "text/plain": [
       "0.504885993485342"
      ]
     },
     "execution_count": 131,
     "metadata": {},
     "output_type": "execute_result"
    }
   ],
   "source": [
    "lg_ore=recall_score(lg_op,o_y_test)\n",
    "lg_ore"
   ]
  },
  {
   "cell_type": "code",
   "execution_count": 132,
   "id": "6fe41d5b",
   "metadata": {},
   "outputs": [
    {
     "data": {
      "text/plain": [
       "0.4264099037138927"
      ]
     },
     "execution_count": 132,
     "metadata": {},
     "output_type": "execute_result"
    }
   ],
   "source": [
    "lg_of1=f1_score(lg_op,o_y_test)\n",
    "lg_of1"
   ]
  },
  {
   "cell_type": "code",
   "execution_count": 133,
   "id": "59fcea49",
   "metadata": {},
   "outputs": [
    {
     "name": "stdout",
     "output_type": "stream",
     "text": [
      "              precision    recall  f1-score   support\n",
      "\n",
      "           0       0.60      0.46      0.52       493\n",
      "           1       0.37      0.50      0.43       307\n",
      "\n",
      "    accuracy                           0.48       800\n",
      "   macro avg       0.48      0.48      0.47       800\n",
      "weighted avg       0.51      0.48      0.49       800\n",
      "\n"
     ]
    }
   ],
   "source": [
    "print(classification_report(lg_op,o_y_test))"
   ]
  },
  {
   "cell_type": "markdown",
   "id": "3917387b",
   "metadata": {},
   "source": [
    "# Decision Tree with Random Oversampling"
   ]
  },
  {
   "cell_type": "code",
   "execution_count": 134,
   "id": "5b107457",
   "metadata": {},
   "outputs": [
    {
     "data": {
      "text/plain": [
       "DecisionTreeClassifier()"
      ]
     },
     "execution_count": 134,
     "metadata": {},
     "output_type": "execute_result"
    }
   ],
   "source": [
    "dt.fit(o_x_train,o_y_train)"
   ]
  },
  {
   "cell_type": "code",
   "execution_count": 135,
   "id": "6905cf50",
   "metadata": {},
   "outputs": [],
   "source": [
    "dt_op=dt.predict(o_x_test)"
   ]
  },
  {
   "cell_type": "code",
   "execution_count": 136,
   "id": "b949119e",
   "metadata": {},
   "outputs": [
    {
     "data": {
      "text/plain": [
       "array([[274,  85],\n",
       "       [106, 335]], dtype=int64)"
      ]
     },
     "execution_count": 136,
     "metadata": {},
     "output_type": "execute_result"
    }
   ],
   "source": [
    "dt_ocf=confusion_matrix(dt_op,o_y_test)\n",
    "dt_ocf"
   ]
  },
  {
   "cell_type": "code",
   "execution_count": 137,
   "id": "e49752ad",
   "metadata": {},
   "outputs": [
    {
     "data": {
      "text/plain": [
       "76.125"
      ]
     },
     "execution_count": 137,
     "metadata": {},
     "output_type": "execute_result"
    }
   ],
   "source": [
    "dt_oacc=dt_ocf.diagonal().sum()/dt_ocf.sum()*100\n",
    "dt_oacc"
   ]
  },
  {
   "cell_type": "code",
   "execution_count": 138,
   "id": "7eae87c6",
   "metadata": {},
   "outputs": [
    {
     "data": {
      "text/plain": [
       "0.7976190476190477"
      ]
     },
     "execution_count": 138,
     "metadata": {},
     "output_type": "execute_result"
    }
   ],
   "source": [
    "dt_opr=precision_score(dt_op,o_y_test)\n",
    "dt_opr"
   ]
  },
  {
   "cell_type": "code",
   "execution_count": 139,
   "id": "8a351089",
   "metadata": {},
   "outputs": [
    {
     "data": {
      "text/plain": [
       "0.7596371882086168"
      ]
     },
     "execution_count": 139,
     "metadata": {},
     "output_type": "execute_result"
    }
   ],
   "source": [
    "dt_ore=recall_score(dt_op,o_y_test)\n",
    "dt_ore"
   ]
  },
  {
   "cell_type": "code",
   "execution_count": 140,
   "id": "027283d9",
   "metadata": {},
   "outputs": [
    {
     "data": {
      "text/plain": [
       "0.778164924506388"
      ]
     },
     "execution_count": 140,
     "metadata": {},
     "output_type": "execute_result"
    }
   ],
   "source": [
    "dt_of1=f1_score(dt_op,o_y_test)\n",
    "dt_of1"
   ]
  },
  {
   "cell_type": "code",
   "execution_count": 141,
   "id": "85a525cf",
   "metadata": {},
   "outputs": [
    {
     "name": "stdout",
     "output_type": "stream",
     "text": [
      "              precision    recall  f1-score   support\n",
      "\n",
      "           0       0.72      0.76      0.74       359\n",
      "           1       0.80      0.76      0.78       441\n",
      "\n",
      "    accuracy                           0.76       800\n",
      "   macro avg       0.76      0.76      0.76       800\n",
      "weighted avg       0.76      0.76      0.76       800\n",
      "\n"
     ]
    }
   ],
   "source": [
    "print(classification_report(dt_op,o_y_test))"
   ]
  },
  {
   "cell_type": "markdown",
   "id": "b58b4eef",
   "metadata": {},
   "source": [
    "# KNN with Over Sampling"
   ]
  },
  {
   "cell_type": "code",
   "execution_count": 142,
   "id": "1826b686",
   "metadata": {},
   "outputs": [
    {
     "data": {
      "text/plain": [
       "KNeighborsClassifier(n_neighbors=9)"
      ]
     },
     "execution_count": 142,
     "metadata": {},
     "output_type": "execute_result"
    }
   ],
   "source": [
    "knn.fit(o_x_train,o_y_train)"
   ]
  },
  {
   "cell_type": "code",
   "execution_count": 143,
   "id": "5dffd50e",
   "metadata": {},
   "outputs": [],
   "source": [
    "k_op=knn.predict(o_x_test)"
   ]
  },
  {
   "cell_type": "code",
   "execution_count": 144,
   "id": "66d4c28f",
   "metadata": {},
   "outputs": [
    {
     "data": {
      "text/plain": [
       "array([[233, 172],\n",
       "       [147, 248]], dtype=int64)"
      ]
     },
     "execution_count": 144,
     "metadata": {},
     "output_type": "execute_result"
    }
   ],
   "source": [
    "k_ocf=confusion_matrix(k_op,o_y_test)\n",
    "k_ocf"
   ]
  },
  {
   "cell_type": "code",
   "execution_count": 145,
   "id": "ce9fa07a",
   "metadata": {},
   "outputs": [
    {
     "data": {
      "text/plain": [
       "60.12499999999999"
      ]
     },
     "execution_count": 145,
     "metadata": {},
     "output_type": "execute_result"
    }
   ],
   "source": [
    "k_oacc=k_ocf.diagonal().sum()/k_ocf.sum()*100\n",
    "k_oacc"
   ]
  },
  {
   "cell_type": "code",
   "execution_count": 146,
   "id": "bded4be5",
   "metadata": {},
   "outputs": [
    {
     "data": {
      "text/plain": [
       "0.5904761904761905"
      ]
     },
     "execution_count": 146,
     "metadata": {},
     "output_type": "execute_result"
    }
   ],
   "source": [
    "k_opr=precision_score(k_op,o_y_test)\n",
    "k_opr"
   ]
  },
  {
   "cell_type": "code",
   "execution_count": 147,
   "id": "cf472fc9",
   "metadata": {},
   "outputs": [
    {
     "data": {
      "text/plain": [
       "0.6278481012658228"
      ]
     },
     "execution_count": 147,
     "metadata": {},
     "output_type": "execute_result"
    }
   ],
   "source": [
    "k_ore=recall_score(k_op,o_y_test)\n",
    "k_ore"
   ]
  },
  {
   "cell_type": "code",
   "execution_count": 148,
   "id": "15b9bfb3",
   "metadata": {},
   "outputs": [
    {
     "data": {
      "text/plain": [
       "0.6085889570552148"
      ]
     },
     "execution_count": 148,
     "metadata": {},
     "output_type": "execute_result"
    }
   ],
   "source": [
    "k_of1=f1_score(k_op,o_y_test)\n",
    "k_of1"
   ]
  },
  {
   "cell_type": "code",
   "execution_count": 149,
   "id": "0dfbe2b6",
   "metadata": {},
   "outputs": [
    {
     "name": "stdout",
     "output_type": "stream",
     "text": [
      "              precision    recall  f1-score   support\n",
      "\n",
      "           0       0.61      0.58      0.59       405\n",
      "           1       0.59      0.63      0.61       395\n",
      "\n",
      "    accuracy                           0.60       800\n",
      "   macro avg       0.60      0.60      0.60       800\n",
      "weighted avg       0.60      0.60      0.60       800\n",
      "\n"
     ]
    }
   ],
   "source": [
    "print(classification_report(k_op,o_y_test))"
   ]
  },
  {
   "cell_type": "markdown",
   "id": "f67549d8",
   "metadata": {},
   "source": [
    "# Random Forest with Over Sampling"
   ]
  },
  {
   "cell_type": "code",
   "execution_count": 150,
   "id": "5949b73c",
   "metadata": {},
   "outputs": [
    {
     "data": {
      "text/plain": [
       "RandomForestClassifier()"
      ]
     },
     "execution_count": 150,
     "metadata": {},
     "output_type": "execute_result"
    }
   ],
   "source": [
    "rf.fit(o_x_train,o_y_train)"
   ]
  },
  {
   "cell_type": "code",
   "execution_count": 151,
   "id": "74428f35",
   "metadata": {},
   "outputs": [],
   "source": [
    "rf_op=rf.predict(o_x_test)"
   ]
  },
  {
   "cell_type": "code",
   "execution_count": 152,
   "id": "12256e23",
   "metadata": {},
   "outputs": [
    {
     "data": {
      "text/plain": [
       "array([[341,  90],\n",
       "       [ 39, 330]], dtype=int64)"
      ]
     },
     "execution_count": 152,
     "metadata": {},
     "output_type": "execute_result"
    }
   ],
   "source": [
    "rf_ocf=confusion_matrix(rf_op,o_y_test)\n",
    "rf_ocf"
   ]
  },
  {
   "cell_type": "code",
   "execution_count": 153,
   "id": "f7ed1498",
   "metadata": {},
   "outputs": [
    {
     "data": {
      "text/plain": [
       "83.875"
      ]
     },
     "execution_count": 153,
     "metadata": {},
     "output_type": "execute_result"
    }
   ],
   "source": [
    "rf_oacc=rf_ocf.diagonal().sum()/rf_ocf.sum()*100\n",
    "rf_oacc"
   ]
  },
  {
   "cell_type": "code",
   "execution_count": 154,
   "id": "4b009a18",
   "metadata": {},
   "outputs": [
    {
     "data": {
      "text/plain": [
       "0.7857142857142857"
      ]
     },
     "execution_count": 154,
     "metadata": {},
     "output_type": "execute_result"
    }
   ],
   "source": [
    "rf_opr=precision_score(rf_op,o_y_test)\n",
    "rf_opr"
   ]
  },
  {
   "cell_type": "code",
   "execution_count": 155,
   "id": "a608d7ca",
   "metadata": {},
   "outputs": [
    {
     "data": {
      "text/plain": [
       "0.8943089430894309"
      ]
     },
     "execution_count": 155,
     "metadata": {},
     "output_type": "execute_result"
    }
   ],
   "source": [
    "rf_ore=recall_score(rf_op,o_y_test)\n",
    "rf_ore"
   ]
  },
  {
   "cell_type": "code",
   "execution_count": 156,
   "id": "24fcccda",
   "metadata": {},
   "outputs": [
    {
     "data": {
      "text/plain": [
       "0.8365019011406843"
      ]
     },
     "execution_count": 156,
     "metadata": {},
     "output_type": "execute_result"
    }
   ],
   "source": [
    "rf_of1=f1_score(rf_op,o_y_test)\n",
    "rf_of1"
   ]
  },
  {
   "cell_type": "code",
   "execution_count": 157,
   "id": "2ff846a4",
   "metadata": {},
   "outputs": [
    {
     "name": "stdout",
     "output_type": "stream",
     "text": [
      "              precision    recall  f1-score   support\n",
      "\n",
      "           0       0.90      0.79      0.84       431\n",
      "           1       0.79      0.89      0.84       369\n",
      "\n",
      "    accuracy                           0.84       800\n",
      "   macro avg       0.84      0.84      0.84       800\n",
      "weighted avg       0.85      0.84      0.84       800\n",
      "\n"
     ]
    }
   ],
   "source": [
    "print(classification_report(rf_op,o_y_test))"
   ]
  },
  {
   "cell_type": "code",
   "execution_count": 193,
   "id": "dbbf30c0",
   "metadata": {},
   "outputs": [],
   "source": [
    "from sklearn.metrics import roc_auc_score\n",
    "from sklearn.metrics import roc_curve"
   ]
  },
  {
   "cell_type": "code",
   "execution_count": 194,
   "id": "06aa59bb",
   "metadata": {},
   "outputs": [
    {
     "data": {
      "text/plain": [
       "0.842746118876502"
      ]
     },
     "execution_count": 194,
     "metadata": {},
     "output_type": "execute_result"
    }
   ],
   "source": [
    "roc=roc_auc_score(rf_op,o_y_test)\n",
    "roc"
   ]
  },
  {
   "cell_type": "code",
   "execution_count": 196,
   "id": "0a593b0c",
   "metadata": {},
   "outputs": [],
   "source": [
    "y_pred_prob = rf.predict_proba(o_x_test)[:,1]"
   ]
  },
  {
   "cell_type": "code",
   "execution_count": 198,
   "id": "497b9ffa",
   "metadata": {},
   "outputs": [],
   "source": [
    "fpr,tpr,threshold=roc_curve(o_y_test,y_pred_prob)\n"
   ]
  },
  {
   "cell_type": "code",
   "execution_count": 199,
   "id": "c6b4d333",
   "metadata": {},
   "outputs": [
    {
     "data": {
      "image/png": "[encoded data removed]",
      "text/plain": [
       "<Figure size 640x480 with 1 Axes>"
      ]
     },
     "metadata": {},
     "output_type": "display_data"
    }
   ],
   "source": [
    "plt.plot(fpr,tpr)\n",
    "plt.xlabel('False Positive Rate')\n",
    "plt.ylabel('True Positive Rate')\n",
    "plt.title('ROC Curve - Random Forest')\n",
    "plt.show()"
   ]
  },
  {
   "cell_type": "code",
   "execution_count": null,
   "id": "747ea379",
   "metadata": {},
   "outputs": [],
   "source": []
  },
  {
   "cell_type": "code",
   "execution_count": null,
   "id": "bf5237b5",
   "metadata": {},
   "outputs": [],
   "source": []
  },
  {
   "cell_type": "markdown",
   "id": "dfac782f",
   "metadata": {},
   "source": [
    "# SVM with Over Sampling"
   ]
  },
  {
   "cell_type": "code",
   "execution_count": 158,
   "id": "931314e3",
   "metadata": {},
   "outputs": [
    {
     "data": {
      "text/plain": [
       "SVC()"
      ]
     },
     "execution_count": 158,
     "metadata": {},
     "output_type": "execute_result"
    }
   ],
   "source": [
    "svc.fit(o_x_train,o_y_train)"
   ]
  },
  {
   "cell_type": "code",
   "execution_count": 159,
   "id": "7d8e5296",
   "metadata": {},
   "outputs": [],
   "source": [
    "s_op=svc.predict(o_x_test)"
   ]
  },
  {
   "cell_type": "code",
   "execution_count": 160,
   "id": "1fae5c7e",
   "metadata": {},
   "outputs": [
    {
     "data": {
      "text/plain": [
       "array([[275, 310],\n",
       "       [105, 110]], dtype=int64)"
      ]
     },
     "execution_count": 160,
     "metadata": {},
     "output_type": "execute_result"
    }
   ],
   "source": [
    "s_ocf=confusion_matrix(s_op,o_y_test)\n",
    "s_ocf"
   ]
  },
  {
   "cell_type": "code",
   "execution_count": 161,
   "id": "f05e7eea",
   "metadata": {},
   "outputs": [
    {
     "data": {
      "text/plain": [
       "48.125"
      ]
     },
     "execution_count": 161,
     "metadata": {},
     "output_type": "execute_result"
    }
   ],
   "source": [
    "s_oacc=s_ocf.diagonal().sum()/s_ocf.sum()*100\n",
    "s_oacc"
   ]
  },
  {
   "cell_type": "code",
   "execution_count": 162,
   "id": "5e5f9c2e",
   "metadata": {},
   "outputs": [
    {
     "data": {
      "text/plain": [
       "0.2619047619047619"
      ]
     },
     "execution_count": 162,
     "metadata": {},
     "output_type": "execute_result"
    }
   ],
   "source": [
    "s_opr=precision_score(s_op,o_y_test)\n",
    "s_opr"
   ]
  },
  {
   "cell_type": "code",
   "execution_count": 163,
   "id": "23e186c1",
   "metadata": {},
   "outputs": [
    {
     "data": {
      "text/plain": [
       "0.5116279069767442"
      ]
     },
     "execution_count": 163,
     "metadata": {},
     "output_type": "execute_result"
    }
   ],
   "source": [
    "s_ore=recall_score(s_op,o_y_test)\n",
    "s_ore"
   ]
  },
  {
   "cell_type": "code",
   "execution_count": 164,
   "id": "e5cf5590",
   "metadata": {},
   "outputs": [
    {
     "data": {
      "text/plain": [
       "0.3464566929133859"
      ]
     },
     "execution_count": 164,
     "metadata": {},
     "output_type": "execute_result"
    }
   ],
   "source": [
    "s_of1=f1_score(s_op,o_y_test)\n",
    "s_of1"
   ]
  },
  {
   "cell_type": "code",
   "execution_count": 165,
   "id": "70a8e9ac",
   "metadata": {},
   "outputs": [
    {
     "name": "stdout",
     "output_type": "stream",
     "text": [
      "              precision    recall  f1-score   support\n",
      "\n",
      "           0       0.72      0.47      0.57       585\n",
      "           1       0.26      0.51      0.35       215\n",
      "\n",
      "    accuracy                           0.48       800\n",
      "   macro avg       0.49      0.49      0.46       800\n",
      "weighted avg       0.60      0.48      0.51       800\n",
      "\n"
     ]
    }
   ],
   "source": [
    "print(classification_report(s_op,o_y_test))"
   ]
  },
  {
   "cell_type": "markdown",
   "id": "23af2cae",
   "metadata": {},
   "source": [
    "# ADA Boost with Over Sampling"
   ]
  },
  {
   "cell_type": "code",
   "execution_count": 166,
   "id": "0c4a49f7",
   "metadata": {},
   "outputs": [
    {
     "data": {
      "text/plain": [
       "AdaBoostClassifier(base_estimator=DecisionTreeClassifier(), n_estimators=5)"
      ]
     },
     "execution_count": 166,
     "metadata": {},
     "output_type": "execute_result"
    }
   ],
   "source": [
    "adbo.fit(o_x_train,o_y_train)"
   ]
  },
  {
   "cell_type": "code",
   "execution_count": 167,
   "id": "4bf903fe",
   "metadata": {},
   "outputs": [],
   "source": [
    "ad_op=adbo.predict(o_x_test)\n"
   ]
  },
  {
   "cell_type": "code",
   "execution_count": 168,
   "id": "17997d6c",
   "metadata": {},
   "outputs": [
    {
     "data": {
      "text/plain": [
       "array([[273,  80],\n",
       "       [107, 340]], dtype=int64)"
      ]
     },
     "execution_count": 168,
     "metadata": {},
     "output_type": "execute_result"
    }
   ],
   "source": [
    "ad_ocf=confusion_matrix(ad_op,o_y_test)\n",
    "ad_ocf"
   ]
  },
  {
   "cell_type": "code",
   "execution_count": 169,
   "id": "80fe464d",
   "metadata": {},
   "outputs": [
    {
     "data": {
      "text/plain": [
       "76.625"
      ]
     },
     "execution_count": 169,
     "metadata": {},
     "output_type": "execute_result"
    }
   ],
   "source": [
    "ad_oacc=ad_ocf.diagonal().sum()/ad_ocf.sum()*100\n",
    "ad_oacc"
   ]
  },
  {
   "cell_type": "code",
   "execution_count": 170,
   "id": "f6af4507",
   "metadata": {},
   "outputs": [
    {
     "data": {
      "text/plain": [
       "0.8095238095238095"
      ]
     },
     "execution_count": 170,
     "metadata": {},
     "output_type": "execute_result"
    }
   ],
   "source": [
    "ad_opr=precision_score(ad_op,o_y_test)\n",
    "ad_opr"
   ]
  },
  {
   "cell_type": "code",
   "execution_count": 171,
   "id": "6bd9cf76",
   "metadata": {},
   "outputs": [
    {
     "data": {
      "text/plain": [
       "0.7606263982102909"
      ]
     },
     "execution_count": 171,
     "metadata": {},
     "output_type": "execute_result"
    }
   ],
   "source": [
    "ad_ore=recall_score(ad_op,o_y_test)\n",
    "ad_ore"
   ]
  },
  {
   "cell_type": "code",
   "execution_count": 172,
   "id": "d593a1c5",
   "metadata": {},
   "outputs": [
    {
     "data": {
      "text/plain": [
       "0.784313725490196"
      ]
     },
     "execution_count": 172,
     "metadata": {},
     "output_type": "execute_result"
    }
   ],
   "source": [
    "ad_of1=f1_score(ad_op,o_y_test)\n",
    "ad_of1"
   ]
  },
  {
   "cell_type": "code",
   "execution_count": 173,
   "id": "9c844d40",
   "metadata": {},
   "outputs": [
    {
     "name": "stdout",
     "output_type": "stream",
     "text": [
      "              precision    recall  f1-score   support\n",
      "\n",
      "           0       0.72      0.77      0.74       353\n",
      "           1       0.81      0.76      0.78       447\n",
      "\n",
      "    accuracy                           0.77       800\n",
      "   macro avg       0.76      0.77      0.76       800\n",
      "weighted avg       0.77      0.77      0.77       800\n",
      "\n"
     ]
    }
   ],
   "source": [
    "print(classification_report(ad_op,o_y_test))"
   ]
  },
  {
   "cell_type": "markdown",
   "id": "cf8ff961",
   "metadata": {},
   "source": [
    "# XG Boost with Over Sampling"
   ]
  },
  {
   "cell_type": "code",
   "execution_count": 174,
   "id": "75c49066",
   "metadata": {},
   "outputs": [
    {
     "data": {
      "text/plain": [
       "XGBClassifier(base_score=None, booster=None, callbacks=None,\n",
       "              colsample_bylevel=None, colsample_bynode=None,\n",
       "              colsample_bytree=None, early_stopping_rounds=None,\n",
       "              enable_categorical=False, eval_metric=None, feature_types=None,\n",
       "              gamma=None, gpu_id=None, grow_policy=None, importance_type=None,\n",
       "              interaction_constraints=None, learning_rate=None, max_bin=None,\n",
       "              max_cat_threshold=None, max_cat_to_onehot=None,\n",
       "              max_delta_step=None, max_depth=None, max_leaves=None,\n",
       "              min_child_weight=None, missing=nan, monotone_constraints=None,\n",
       "              n_estimators=100, n_jobs=None, num_parallel_tree=None,\n",
       "              predictor=None, random_state=None, ...)"
      ]
     },
     "execution_count": 174,
     "metadata": {},
     "output_type": "execute_result"
    }
   ],
   "source": [
    "xgb.fit(o_x_train,o_y_train)"
   ]
  },
  {
   "cell_type": "code",
   "execution_count": 175,
   "id": "5777ec11",
   "metadata": {},
   "outputs": [],
   "source": [
    "xgb_op=xgb.predict(o_x_test)"
   ]
  },
  {
   "cell_type": "code",
   "execution_count": 176,
   "id": "7ef5c819",
   "metadata": {},
   "outputs": [
    {
     "data": {
      "text/plain": [
       "array([[305,  78],\n",
       "       [ 75, 342]], dtype=int64)"
      ]
     },
     "execution_count": 176,
     "metadata": {},
     "output_type": "execute_result"
    }
   ],
   "source": [
    "xgb_ocf=confusion_matrix(xgb_op,o_y_test)\n",
    "xgb_ocf"
   ]
  },
  {
   "cell_type": "code",
   "execution_count": 177,
   "id": "bbe7ea32",
   "metadata": {},
   "outputs": [
    {
     "data": {
      "text/plain": [
       "80.875"
      ]
     },
     "execution_count": 177,
     "metadata": {},
     "output_type": "execute_result"
    }
   ],
   "source": [
    "xgb_oacc=xgb_ocf.diagonal().sum()/xgb_ocf.sum()*100\n",
    "xgb_oacc"
   ]
  },
  {
   "cell_type": "code",
   "execution_count": 178,
   "id": "b332b93a",
   "metadata": {},
   "outputs": [
    {
     "data": {
      "text/plain": [
       "0.8142857142857143"
      ]
     },
     "execution_count": 178,
     "metadata": {},
     "output_type": "execute_result"
    }
   ],
   "source": [
    "xgb_opr=precision_score(xgb_op,o_y_test)\n",
    "xgb_opr"
   ]
  },
  {
   "cell_type": "code",
   "execution_count": 179,
   "id": "3392e57d",
   "metadata": {},
   "outputs": [
    {
     "data": {
      "text/plain": [
       "0.8201438848920863"
      ]
     },
     "execution_count": 179,
     "metadata": {},
     "output_type": "execute_result"
    }
   ],
   "source": [
    "xgb_ore=recall_score(xgb_op,o_y_test)\n",
    "xgb_ore"
   ]
  },
  {
   "cell_type": "code",
   "execution_count": 180,
   "id": "bc22a341",
   "metadata": {},
   "outputs": [
    {
     "data": {
      "text/plain": [
       "0.8172043010752688"
      ]
     },
     "execution_count": 180,
     "metadata": {},
     "output_type": "execute_result"
    }
   ],
   "source": [
    "xgb_of1=f1_score(xgb_op,o_y_test)\n",
    "xgb_of1"
   ]
  },
  {
   "cell_type": "code",
   "execution_count": 181,
   "id": "f6a44af7",
   "metadata": {},
   "outputs": [
    {
     "name": "stdout",
     "output_type": "stream",
     "text": [
      "              precision    recall  f1-score   support\n",
      "\n",
      "           0       0.80      0.80      0.80       383\n",
      "           1       0.81      0.82      0.82       417\n",
      "\n",
      "    accuracy                           0.81       800\n",
      "   macro avg       0.81      0.81      0.81       800\n",
      "weighted avg       0.81      0.81      0.81       800\n",
      "\n"
     ]
    }
   ],
   "source": [
    "print(classification_report(xgb_op,o_y_test))"
   ]
  },
  {
   "cell_type": "markdown",
   "id": "6972429e",
   "metadata": {},
   "source": [
    "# Naive Bayes with Over sampling"
   ]
  },
  {
   "cell_type": "code",
   "execution_count": 182,
   "id": "740f8674",
   "metadata": {},
   "outputs": [
    {
     "data": {
      "text/plain": [
       "MultinomialNB()"
      ]
     },
     "execution_count": 182,
     "metadata": {},
     "output_type": "execute_result"
    }
   ],
   "source": [
    "nb.fit(o_x_train,o_y_train)"
   ]
  },
  {
   "cell_type": "code",
   "execution_count": 183,
   "id": "1636ba2d",
   "metadata": {},
   "outputs": [],
   "source": [
    "n_op=nb.predict(o_x_test)"
   ]
  },
  {
   "cell_type": "code",
   "execution_count": 184,
   "id": "b627e9e0",
   "metadata": {},
   "outputs": [
    {
     "data": {
      "text/plain": [
       "array([[199, 239],\n",
       "       [181, 181]], dtype=int64)"
      ]
     },
     "execution_count": 184,
     "metadata": {},
     "output_type": "execute_result"
    }
   ],
   "source": [
    "n_ocf=confusion_matrix(n_op,o_y_test)\n",
    "n_ocf"
   ]
  },
  {
   "cell_type": "code",
   "execution_count": 185,
   "id": "38f09599",
   "metadata": {},
   "outputs": [
    {
     "data": {
      "text/plain": [
       "47.5"
      ]
     },
     "execution_count": 185,
     "metadata": {},
     "output_type": "execute_result"
    }
   ],
   "source": [
    "n_oacc=n_ocf.diagonal().sum()/n_ocf.sum()*100\n",
    "n_oacc"
   ]
  },
  {
   "cell_type": "code",
   "execution_count": 186,
   "id": "c2ade9e8",
   "metadata": {},
   "outputs": [
    {
     "data": {
      "text/plain": [
       "0.430952380952381"
      ]
     },
     "execution_count": 186,
     "metadata": {},
     "output_type": "execute_result"
    }
   ],
   "source": [
    "n_opr=precision_score(n_op,o_y_test)\n",
    "n_opr"
   ]
  },
  {
   "cell_type": "code",
   "execution_count": 187,
   "id": "3a375a63",
   "metadata": {},
   "outputs": [
    {
     "data": {
      "text/plain": [
       "0.5"
      ]
     },
     "execution_count": 187,
     "metadata": {},
     "output_type": "execute_result"
    }
   ],
   "source": [
    "n_ore=recall_score(n_op,o_y_test)\n",
    "n_ore"
   ]
  },
  {
   "cell_type": "code",
   "execution_count": 188,
   "id": "93569a59",
   "metadata": {},
   "outputs": [
    {
     "data": {
      "text/plain": [
       "0.46291560102301793"
      ]
     },
     "execution_count": 188,
     "metadata": {},
     "output_type": "execute_result"
    }
   ],
   "source": [
    "n_of1=f1_score(n_op,o_y_test)\n",
    "n_of1"
   ]
  },
  {
   "cell_type": "code",
   "execution_count": 189,
   "id": "0cc314a4",
   "metadata": {},
   "outputs": [
    {
     "name": "stdout",
     "output_type": "stream",
     "text": [
      "              precision    recall  f1-score   support\n",
      "\n",
      "           0       0.52      0.45      0.49       438\n",
      "           1       0.43      0.50      0.46       362\n",
      "\n",
      "    accuracy                           0.48       800\n",
      "   macro avg       0.48      0.48      0.47       800\n",
      "weighted avg       0.48      0.47      0.48       800\n",
      "\n"
     ]
    }
   ],
   "source": [
    "print(classification_report(n_op,o_y_test))"
   ]
  },
  {
   "cell_type": "markdown",
   "id": "c687e41f",
   "metadata": {},
   "source": [
    "# Conclusion"
   ]
  },
  {
   "cell_type": "code",
   "execution_count": 190,
   "id": "b7a8a9e3",
   "metadata": {},
   "outputs": [],
   "source": [
    "list1=[\"Logistic Regression\",\"Decision Tree\",\"KNN\",\"Random forest\",\"ADA Boost\",\"XG Boost\",\"SVM\",\"Naivy Bayes\"]\n",
    "list2=[lg_oacc,dt_oacc,k_oacc,rf_oacc,ad_oacc,xgb_oacc,s_oacc,n_oacc]\n",
    "list3=[lg_opr,dt_opr,k_opr,rf_opr,ad_opr,xgb_opr,s_opr,n_opr]\n",
    "list4=[lg_ore,dt_ore,k_ore,rf_ore,ad_ore,xgb_ore,s_ore,n_ore]\n",
    "list5=[lg_of1,dt_of1,k_of1,rf_of1,ad_of1,xgb_of1,s_of1,n_of1]"
   ]
  },
  {
   "cell_type": "code",
   "execution_count": 191,
   "id": "8e925135",
   "metadata": {},
   "outputs": [
    {
     "data": {
      "text/html": [
       "<div>\n",
       "<style scoped>\n",
       "    .dataframe tbody tr th:only-of-type {\n",
       "        vertical-align: middle;\n",
       "    }\n",
       "\n",
       "    .dataframe tbody tr th {\n",
       "        vertical-align: top;\n",
       "    }\n",
       "\n",
       "    .dataframe thead th {\n",
       "        text-align: right;\n",
       "    }\n",
       "</style>\n",
       "<table border=\"1\" class=\"dataframe\">\n",
       "  <thead>\n",
       "    <tr style=\"text-align: right;\">\n",
       "      <th></th>\n",
       "      <th>Model Name</th>\n",
       "      <th>Accuracy</th>\n",
       "      <th>precision</th>\n",
       "      <th>recall</th>\n",
       "      <th>f1_score</th>\n",
       "    </tr>\n",
       "  </thead>\n",
       "  <tbody>\n",
       "    <tr>\n",
       "      <th>0</th>\n",
       "      <td>Logistic Regression</td>\n",
       "      <td>47.875</td>\n",
       "      <td>0.369048</td>\n",
       "      <td>0.504886</td>\n",
       "      <td>0.426410</td>\n",
       "    </tr>\n",
       "    <tr>\n",
       "      <th>1</th>\n",
       "      <td>Decision Tree</td>\n",
       "      <td>76.125</td>\n",
       "      <td>0.797619</td>\n",
       "      <td>0.759637</td>\n",
       "      <td>0.778165</td>\n",
       "    </tr>\n",
       "    <tr>\n",
       "      <th>2</th>\n",
       "      <td>KNN</td>\n",
       "      <td>60.125</td>\n",
       "      <td>0.590476</td>\n",
       "      <td>0.627848</td>\n",
       "      <td>0.608589</td>\n",
       "    </tr>\n",
       "    <tr>\n",
       "      <th>3</th>\n",
       "      <td>Random forest</td>\n",
       "      <td>83.875</td>\n",
       "      <td>0.785714</td>\n",
       "      <td>0.894309</td>\n",
       "      <td>0.836502</td>\n",
       "    </tr>\n",
       "    <tr>\n",
       "      <th>4</th>\n",
       "      <td>ADA Boost</td>\n",
       "      <td>76.625</td>\n",
       "      <td>0.809524</td>\n",
       "      <td>0.760626</td>\n",
       "      <td>0.784314</td>\n",
       "    </tr>\n",
       "    <tr>\n",
       "      <th>5</th>\n",
       "      <td>XG Boost</td>\n",
       "      <td>80.875</td>\n",
       "      <td>0.814286</td>\n",
       "      <td>0.820144</td>\n",
       "      <td>0.817204</td>\n",
       "    </tr>\n",
       "    <tr>\n",
       "      <th>6</th>\n",
       "      <td>SVM</td>\n",
       "      <td>48.125</td>\n",
       "      <td>0.261905</td>\n",
       "      <td>0.511628</td>\n",
       "      <td>0.346457</td>\n",
       "    </tr>\n",
       "    <tr>\n",
       "      <th>7</th>\n",
       "      <td>Naivy Bayes</td>\n",
       "      <td>47.500</td>\n",
       "      <td>0.430952</td>\n",
       "      <td>0.500000</td>\n",
       "      <td>0.462916</td>\n",
       "    </tr>\n",
       "  </tbody>\n",
       "</table>\n",
       "</div>"
      ],
      "text/plain": [
       "            Model Name  Accuracy  precision    recall  f1_score\n",
       "0  Logistic Regression    47.875   0.369048  0.504886  0.426410\n",
       "1        Decision Tree    76.125   0.797619  0.759637  0.778165\n",
       "2                  KNN    60.125   0.590476  0.627848  0.608589\n",
       "3        Random forest    83.875   0.785714  0.894309  0.836502\n",
       "4            ADA Boost    76.625   0.809524  0.760626  0.784314\n",
       "5             XG Boost    80.875   0.814286  0.820144  0.817204\n",
       "6                  SVM    48.125   0.261905  0.511628  0.346457\n",
       "7          Naivy Bayes    47.500   0.430952  0.500000  0.462916"
      ]
     },
     "execution_count": 191,
     "metadata": {},
     "output_type": "execute_result"
    }
   ],
   "source": [
    "dataframe2=pd.DataFrame({\"Model Name\":list1,\"Accuracy\":list2,\"precision\":list3,\"recall\":list4,\"f1_score\":list5})\n",
    "dataframe2"
   ]
  }
 ],
 "metadata": {
  "kernelspec": {
   "display_name": "Python 3 (ipykernel)",
   "language": "python",
   "name": "python3"
  },
  "language_info": {
   "codemirror_mode": {
    "name": "ipython",
    "version": 3
   },
   "file_extension": ".py",
   "mimetype": "text/x-python",
   "name": "python",
   "nbconvert_exporter": "python",
   "pygments_lexer": "ipython3",
   "version": "3.9.13"
  }
 },
 "nbformat": 4,
 "nbformat_minor": 5
}
